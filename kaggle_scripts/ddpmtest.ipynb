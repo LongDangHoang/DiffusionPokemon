{
 "cells": [
  {
   "cell_type": "code",
   "execution_count": 1,
   "id": "030da9cd",
   "metadata": {
    "_cell_guid": "600fe82f-6d44-4212-8a4d-16141e1d2eff",
    "_uuid": "29dcf535-3d39-45bc-920e-939b00811eeb",
    "collapsed": false,
    "execution": {
     "iopub.execute_input": "2025-06-01T22:34:44.202568Z",
     "iopub.status.busy": "2025-06-01T22:34:44.202276Z",
     "iopub.status.idle": "2025-06-01T22:35:04.807372Z",
     "shell.execute_reply": "2025-06-01T22:35:04.806441Z"
    },
    "jupyter": {
     "outputs_hidden": false
    },
    "papermill": {
     "duration": 20.611702,
     "end_time": "2025-06-01T22:35:04.808980",
     "exception": false,
     "start_time": "2025-06-01T22:34:44.197278",
     "status": "completed"
    },
    "tags": []
   },
   "outputs": [
    {
     "name": "stdout",
     "output_type": "stream",
     "text": [
      "  Preparing metadata (setup.py) ... \u001b[?25l\u001b[?25hdone\r\n",
      "\u001b[2K   \u001b[90m━━━━━━━━━━━━━━━━━━━━━━━━━━━━━━━━━━━━━━━━\u001b[0m \u001b[32m2.0/2.0 MB\u001b[0m \u001b[31m37.6 MB/s\u001b[0m eta \u001b[36m0:00:00\u001b[0m\r\n",
      "\u001b[?25h  Building wheel for pathtools (setup.py) ... \u001b[?25l\u001b[?25hdone\r\n",
      "Cloning into './diffusionpokemon'...\r\n",
      "remote: Enumerating objects: 395, done.\u001b[K\r\n",
      "remote: Counting objects: 100% (163/163), done.\u001b[K\r\n",
      "remote: Compressing objects: 100% (137/137), done.\u001b[K\r\n",
      "remote: Total 395 (delta 73), reused 70 (delta 24), pack-reused 232 (from 1)\u001b[K\r\n",
      "Receiving objects: 100% (395/395), 1.98 MiB | 24.45 MiB/s, done.\r\n",
      "Resolving deltas: 100% (187/187), done.\r\n"
     ]
    }
   ],
   "source": [
    "# install dependencies if they aren't\n",
    "!pip install pytorch-lightning python-dotenv wandb==0.15.0 protobuf==3.20.3 --quiet\n",
    "\n",
    "# install from git\n",
    "!if [ -e ./diffusionpokemon ]; then rm -rf ./diffusionpokemon; fi\n",
    "!git clone https://github.com/LongDangHoang/DiffusionPokemon ./diffusionpokemon"
   ]
  },
  {
   "cell_type": "code",
   "execution_count": 2,
   "id": "6cecff25",
   "metadata": {
    "execution": {
     "iopub.execute_input": "2025-06-01T22:35:04.818532Z",
     "iopub.status.busy": "2025-06-01T22:35:04.818284Z",
     "iopub.status.idle": "2025-06-01T22:35:12.988636Z",
     "shell.execute_reply": "2025-06-01T22:35:12.987599Z"
    },
    "papermill": {
     "duration": 8.176778,
     "end_time": "2025-06-01T22:35:12.990286",
     "exception": false,
     "start_time": "2025-06-01T22:35:04.813508",
     "status": "completed"
    },
    "tags": []
   },
   "outputs": [
    {
     "name": "stdout",
     "output_type": "stream",
     "text": [
      "\u001b[2K   \u001b[90m━━━━━━━━━━━━━━━━━━━━━━━━━━━━━━━━━━━━━━━━\u001b[0m \u001b[32m199.1/199.1 kB\u001b[0m \u001b[31m8.8 MB/s\u001b[0m eta \u001b[36m0:00:00\u001b[0m\r\n",
      "\u001b[2K   \u001b[90m━━━━━━━━━━━━━━━━━━━━━━━━━━━━━━━━━━━━━━━━\u001b[0m \u001b[32m78.9/78.9 kB\u001b[0m \u001b[31m5.2 MB/s\u001b[0m eta \u001b[36m0:00:00\u001b[0m\r\n",
      "\u001b[2K   \u001b[90m━━━━━━━━━━━━━━━━━━━━━━━━━━━━━━━━━━━━━━━━\u001b[0m \u001b[32m13.3/13.3 MB\u001b[0m \u001b[31m81.8 MB/s\u001b[0m eta \u001b[36m0:00:00\u001b[0m\r\n",
      "\u001b[?25h\u001b[31mERROR: pip's dependency resolver does not currently take into account all the packages that are installed. This behaviour is the source of the following dependency conflicts.\r\n",
      "boto3 1.36.23 requires botocore<1.37.0,>=1.36.23, but you have botocore 1.37.3 which is incompatible.\r\n",
      "datasets 3.3.1 requires fsspec[http]<=2024.12.0,>=2023.1.0, but you have fsspec 2025.5.1 which is incompatible.\r\n",
      "gcsfs 2024.10.0 requires fsspec==2024.10.0, but you have fsspec 2025.5.1 which is incompatible.\u001b[0m\u001b[31m\r\n",
      "\u001b[0m"
     ]
    }
   ],
   "source": [
    "# upgrade s3fs to avoid performance issue\n",
    "!pip install s3fs==2025.5.1 --quiet"
   ]
  },
  {
   "cell_type": "code",
   "execution_count": 3,
   "id": "8a2e2072",
   "metadata": {
    "_cell_guid": "cf8d14c8-7fb2-4bdd-8adb-c074cd08195b",
    "_uuid": "4b133fd3-359b-4334-a65a-ff4a53d91d1f",
    "collapsed": false,
    "execution": {
     "iopub.execute_input": "2025-06-01T22:35:13.000169Z",
     "iopub.status.busy": "2025-06-01T22:35:12.999884Z",
     "iopub.status.idle": "2025-06-01T22:35:25.475699Z",
     "shell.execute_reply": "2025-06-01T22:35:25.474840Z"
    },
    "jupyter": {
     "outputs_hidden": false
    },
    "papermill": {
     "duration": 12.482161,
     "end_time": "2025-06-01T22:35:25.477082",
     "exception": false,
     "start_time": "2025-06-01T22:35:12.994921",
     "status": "completed"
    },
    "tags": []
   },
   "outputs": [
    {
     "name": "stdout",
     "output_type": "stream",
     "text": [
      "Using cuda\n"
     ]
    }
   ],
   "source": [
    "%load_ext autoreload\n",
    "%autoreload 2\n",
    "\n",
    "import sys\n",
    "sys.path.append(\"./diffusionpokemon\")\n",
    "\n",
    "import re\n",
    "import os\n",
    "import torch\n",
    "import torch.nn as nn\n",
    "import datetime\n",
    "import math\n",
    "import numpy as np\n",
    "import matplotlib.pyplot as plt\n",
    "\n",
    "from tqdm.auto import tqdm\n",
    "from typing import List, Dict, Optional, Union, Tuple\n",
    "from pathlib import Path\n",
    "\n",
    "from diffusionpokemon.models.autoencoder_blocks import TimeEmbedding\n",
    "from diffusionpokemon.models.ddpm_unet import DDPMModel, DDPMUNet\n",
    "from diffusionpokemon.utils.callbacks import SampleCallback, DenoiseMidwaySampleCallback\n",
    "\n",
    "from torchvision import datasets, transforms\n",
    "from torchvision.datasets import ImageFolder\n",
    "from torch.utils.data import DataLoader, Subset\n",
    "from torch.optim.lr_scheduler import StepLR, ReduceLROnPlateau, OneCycleLR\n",
    "\n",
    "from pytorch_lightning import LightningModule, Trainer\n",
    "from pytorch_lightning.loggers import WandbLogger\n",
    "from pytorch_lightning.callbacks import (\n",
    "    EarlyStopping, \n",
    "    StochasticWeightAveraging, \n",
    "    Callback, \n",
    "    ModelCheckpoint,\n",
    "    LearningRateMonitor,\n",
    ")\n",
    "\n",
    "torch.manual_seed(314)\n",
    "torch.cuda.manual_seed_all(314)\n",
    "\n",
    "device = \"cuda\" if torch.cuda.is_available() else \"cpu\"\n",
    "print(f\"Using {device}\")"
   ]
  },
  {
   "cell_type": "code",
   "execution_count": 4,
   "id": "a5f42f36",
   "metadata": {
    "execution": {
     "iopub.execute_input": "2025-06-01T22:35:25.487134Z",
     "iopub.status.busy": "2025-06-01T22:35:25.486865Z",
     "iopub.status.idle": "2025-06-01T22:35:38.683511Z",
     "shell.execute_reply": "2025-06-01T22:35:38.682909Z"
    },
    "papermill": {
     "duration": 13.203074,
     "end_time": "2025-06-01T22:35:38.684906",
     "exception": false,
     "start_time": "2025-06-01T22:35:25.481832",
     "status": "completed"
    },
    "tags": []
   },
   "outputs": [
    {
     "name": "stderr",
     "output_type": "stream",
     "text": [
      "\u001b[34m\u001b[1mwandb\u001b[0m: Currently logged in as: \u001b[33mhoanglongdang2001\u001b[0m. Use \u001b[1m`wandb login --relogin`\u001b[0m to force relogin\n"
     ]
    },
    {
     "data": {
      "text/html": [
       "wandb version 0.19.11 is available!  To upgrade, please run:\n",
       " $ pip install wandb --upgrade"
      ],
      "text/plain": [
       "<IPython.core.display.HTML object>"
      ]
     },
     "metadata": {},
     "output_type": "display_data"
    },
    {
     "data": {
      "text/html": [
       "Tracking run with wandb version 0.15.0"
      ],
      "text/plain": [
       "<IPython.core.display.HTML object>"
      ]
     },
     "metadata": {},
     "output_type": "display_data"
    },
    {
     "data": {
      "text/html": [
       "Run data is saved locally in <code>/kaggle/working/wandb/run-20250601_223532-setviymk</code>"
      ],
      "text/plain": [
       "<IPython.core.display.HTML object>"
      ]
     },
     "metadata": {},
     "output_type": "display_data"
    },
    {
     "data": {
      "text/html": [
       "Resuming run <strong><a href='https://wandb.ai/hoanglongdang2001/test-ddpm-lightning/runs/setviymk' target=\"_blank\">restful-thunder-15</a></strong> to <a href='https://wandb.ai/hoanglongdang2001/test-ddpm-lightning' target=\"_blank\">Weights & Biases</a> (<a href='https://wandb.me/run' target=\"_blank\">docs</a>)<br/>"
      ],
      "text/plain": [
       "<IPython.core.display.HTML object>"
      ]
     },
     "metadata": {},
     "output_type": "display_data"
    },
    {
     "data": {
      "text/html": [
       " View project at <a href='https://wandb.ai/hoanglongdang2001/test-ddpm-lightning' target=\"_blank\">https://wandb.ai/hoanglongdang2001/test-ddpm-lightning</a>"
      ],
      "text/plain": [
       "<IPython.core.display.HTML object>"
      ]
     },
     "metadata": {},
     "output_type": "display_data"
    },
    {
     "data": {
      "text/html": [
       " View run at <a href='https://wandb.ai/hoanglongdang2001/test-ddpm-lightning/runs/setviymk' target=\"_blank\">https://wandb.ai/hoanglongdang2001/test-ddpm-lightning/runs/setviymk</a>"
      ],
      "text/plain": [
       "<IPython.core.display.HTML object>"
      ]
     },
     "metadata": {},
     "output_type": "display_data"
    }
   ],
   "source": [
    "## Define hyperparameters\n",
    "from dotenv import load_dotenv\n",
    "import json\n",
    "\n",
    "ON_KAGGLE = False\n",
    "if not load_dotenv():\n",
    "    from kaggle_secrets import UserSecretsClient\n",
    "    os.environ[\"WANDB_API_KEY\"] = UserSecretsClient().get_secret(\"wandb_api\")\n",
    "    os.environ[\"AWS_ACCESS_KEY_ID\"] = UserSecretsClient().get_secret(\"s3_aws_access_key\")\n",
    "    os.environ[\"AWS_SECRET_ACCESS_KEY\"] = UserSecretsClient().get_secret(\"s3_aws_secret_access_key\")\n",
    "    ON_KAGGLE = True\n",
    "    \n",
    "import wandb\n",
    "\n",
    "project_name = PROJECT_NAME = \"test-ddpm-lightning\"\n",
    "\n",
    "if config_json_filename := os.getenv(\"CONFIG_JSON_NAME\", None):\n",
    "    with open(config_json_filename, \"r\") as f:\n",
    "        config = json.load(f)\n",
    "else:\n",
    "    config = dict(\n",
    "        batch_size = 32,\n",
    "        use_constant_lr = False,\n",
    "        lr = 1e-4,\n",
    "        num_epoch = 1_000,\n",
    "        dropout = 0.0,\n",
    "        overfit_batch = 0.0,\n",
    "        weight_decay = 0.0,\n",
    "        log_wandb = True,\n",
    "        init_new_wandb_run = False,\n",
    "        use_existing_run = \"setviymk\",\n",
    "        use_augmentation = True,\n",
    "        accumulate_grad_batches = 4,\n",
    "        ddpm__n_steps = 1_000,\n",
    "        ddpm__input_image_channels = 3,\n",
    "        ddpm__input_image_size = 32,\n",
    "        unet__channels_mult = [1, 4, 4, 4, 4, 4],\n",
    "        unet__is_attn = [False, False, False, True, True, True],\n",
    "        unet__n_blocks = 12,\n",
    "        unet__hidden_dim = 64,\n",
    "        unet__use_conv_for_res_change = True,\n",
    "        is_finetune = False,\n",
    "        lr_scheduler__class = \"CosineAnnealingLR\",\n",
    "        max_trainer_time_limit = \"00:60:00:00\",\n",
    "    )\n",
    "\n",
    "for k, v in config.items():\n",
    "    if k not in globals() or globals()[k] != v:\n",
    "        globals()[k] = v\n",
    "\n",
    "# start a new wandb run to track this script\n",
    "if log_wandb:\n",
    "    wandb.login()\n",
    "\n",
    "    if \"run\" not in globals():\n",
    "        run = wandb.init(\n",
    "            project=PROJECT_NAME,\n",
    "            id=use_existing_run if (use_existing_run and not init_new_wandb_run) else None,\n",
    "            resume=\"must\" if (use_existing_run and not init_new_wandb_run) else None,\n",
    "            config={\n",
    "                **config,\n",
    "                \"mode\": \"offline\" if not log_wandb else \"online\"\n",
    "            }\n",
    "        )\n",
    "        assert run is not None\n",
    "\n",
    "# some common things\n",
    "to_pil = transforms.ToPILImage()\n",
    "\n",
    "def make_normaliser(num_channels=1):\n",
    "    return transforms.Normalize([0.5]*num_channels, [1]*num_channels) # - 0.5 / 1\n",
    "\n",
    "def make_inv_normaliser(num_channels=1):\n",
    "    return transforms.Compose([transforms.Normalize([-0.5]*num_channels, [1]*num_channels), lambda x: torch.clip(x, 0, 1)])"
   ]
  },
  {
   "cell_type": "markdown",
   "id": "8df975ef",
   "metadata": {
    "_cell_guid": "ef17ba2d-be09-4599-8f85-dc8d586c3504",
    "_uuid": "f7d78736-dd66-4872-afb7-a12a6eadf9e7",
    "papermill": {
     "duration": 0.004612,
     "end_time": "2025-06-01T22:35:38.694755",
     "exception": false,
     "start_time": "2025-06-01T22:35:38.690143",
     "status": "completed"
    },
    "tags": []
   },
   "source": [
    "# Get data"
   ]
  },
  {
   "cell_type": "code",
   "execution_count": 5,
   "id": "83464e97",
   "metadata": {
    "_cell_guid": "839bf320-61d4-427d-9137-220730ab2854",
    "_uuid": "8c0f1b55-be38-4ecd-92ca-92e299a7dc8e",
    "collapsed": false,
    "execution": {
     "iopub.execute_input": "2025-06-01T22:35:38.705148Z",
     "iopub.status.busy": "2025-06-01T22:35:38.704790Z",
     "iopub.status.idle": "2025-06-01T22:35:47.081908Z",
     "shell.execute_reply": "2025-06-01T22:35:47.080672Z"
    },
    "jupyter": {
     "outputs_hidden": false
    },
    "papermill": {
     "duration": 8.38471,
     "end_time": "2025-06-01T22:35:47.084235",
     "exception": false,
     "start_time": "2025-06-01T22:35:38.699525",
     "status": "completed"
    },
    "tags": []
   },
   "outputs": [
    {
     "name": "stdout",
     "output_type": "stream",
     "text": [
      "Downloading https://www.cs.toronto.edu/~kriz/cifar-10-python.tar.gz to cifar/cifar-10-python.tar.gz\n"
     ]
    },
    {
     "name": "stderr",
     "output_type": "stream",
     "text": [
      "100%|██████████| 170M/170M [00:04<00:00, 35.2MB/s]\n"
     ]
    },
    {
     "name": "stdout",
     "output_type": "stream",
     "text": [
      "Extracting cifar/cifar-10-python.tar.gz to cifar\n",
      "Files already downloaded and verified\n"
     ]
    }
   ],
   "source": [
    "cifar_transforms = transforms.Compose([\n",
    "    transforms.Resize((32, 32)),\n",
    "    transforms.ToTensor(),\n",
    "    make_normaliser(),\n",
    "    *(\n",
    "        [] \n",
    "        if not config[\"use_augmentation\"] \n",
    "        else [\n",
    "            transforms.RandomHorizontalFlip(p=0.5),\n",
    "        ] \n",
    "    )\n",
    "])\n",
    "\n",
    "train_dataset = datasets.CIFAR10(root=\"cifar\", train=True, transform=cifar_transforms, download=True)\n",
    "test_dataset = datasets.CIFAR10(root=\"cifar\", train=False, transform=cifar_transforms, download=True)\n",
    "\n",
    "# # Filter indices where label == 0 (airplane)\n",
    "# plane_train_indices = [i for i, (_, label) in enumerate(train_dataset) if label == 0]\n",
    "# plane_test_indices = [i for i, (_, label) in enumerate(test_dataset) if label == 0]\n",
    "\n",
    "# # Create subsets of only airplanes\n",
    "# plane_train_set = Subset(train_dataset, plane_train_indices)\n",
    "# plane_test_set = Subset(test_dataset, plane_test_indices)\n",
    "\n",
    "# mnist_transforms = transforms.Compose([\n",
    "#     transforms.Resize((32, 32)),\n",
    "#     transforms.ToTensor(),\n",
    "#     make_normaliser(),\n",
    "# ])\n",
    "# train_dataset = datasets.MNIST(root=\"mnist\", train=True, download=True, transform=mnist_transforms)\n",
    "# test_dataset = datasets.MNIST(root=\"mnist\", train=False, download=True, transform=mnist_transforms)"
   ]
  },
  {
   "cell_type": "code",
   "execution_count": 6,
   "id": "997824cb",
   "metadata": {
    "_cell_guid": "61a814e1-bfdf-4c9e-97e1-4f71ab5134bc",
    "_uuid": "89cc13cd-df1d-40a0-8945-7fde292b0580",
    "collapsed": false,
    "execution": {
     "iopub.execute_input": "2025-06-01T22:35:47.100432Z",
     "iopub.status.busy": "2025-06-01T22:35:47.100206Z",
     "iopub.status.idle": "2025-06-01T22:35:47.162373Z",
     "shell.execute_reply": "2025-06-01T22:35:47.161459Z"
    },
    "jupyter": {
     "outputs_hidden": false
    },
    "papermill": {
     "duration": 0.07092,
     "end_time": "2025-06-01T22:35:47.163638",
     "exception": false,
     "start_time": "2025-06-01T22:35:47.092718",
     "status": "completed"
    },
    "tags": []
   },
   "outputs": [
    {
     "name": "stdout",
     "output_type": "stream",
     "text": [
      "Train: 50000, Valid: 10000\n",
      "Number of steps per epoch: 391\n"
     ]
    }
   ],
   "source": [
    "# split train valid\n",
    "print(f\"Train: {len(train_dataset)}, Valid: {len(test_dataset)}\")\n",
    "\n",
    "train_loader = torch.utils.data.DataLoader(\n",
    "    train_dataset,\n",
    "    batch_size=config[\"batch_size\"],\n",
    "    shuffle=True,\n",
    "    num_workers=2,\n",
    "    pin_memory=True,\n",
    ")\n",
    "\n",
    "valid_loader = torch.utils.data.DataLoader(\n",
    "    test_dataset,\n",
    "    batch_size=config[\"batch_size\"],\n",
    "    shuffle=False,\n",
    "    num_workers=2,\n",
    "    pin_memory=True,\n",
    ")\n",
    "\n",
    "# append steps_per_epoch\n",
    "effective_batch_size = batch_size * (1 if accumulate_grad_batches is None else accumulate_grad_batches)\n",
    "num_train_examples = len(train_dataset) if overfit_batch == 0.0 else (overfit_batch * batch_size)\n",
    "steps_per_epoch = math.ceil(num_train_examples / effective_batch_size)\n",
    "print(\"Number of steps per epoch:\", f\"{steps_per_epoch}\")"
   ]
  },
  {
   "cell_type": "code",
   "execution_count": 7,
   "id": "c81f2f99",
   "metadata": {
    "execution": {
     "iopub.execute_input": "2025-06-01T22:35:47.179852Z",
     "iopub.status.busy": "2025-06-01T22:35:47.179612Z",
     "iopub.status.idle": "2025-06-01T22:35:47.520009Z",
     "shell.execute_reply": "2025-06-01T22:35:47.518974Z"
    },
    "papermill": {
     "duration": 0.350155,
     "end_time": "2025-06-01T22:35:47.522078",
     "exception": false,
     "start_time": "2025-06-01T22:35:47.171923",
     "status": "completed"
    },
    "tags": []
   },
   "outputs": [
    {
     "name": "stdout",
     "output_type": "stream",
     "text": [
      "Input shape: torch.Size([3, 32, 32])\n"
     ]
    },
    {
     "data": {
      "image/png": "[encoded data removed]",
      "text/plain": [
       "<Figure size 640x480 with 1 Axes>"
      ]
     },
     "metadata": {},
     "output_type": "display_data"
    }
   ],
   "source": [
    "inv_t = make_inv_normaliser()\n",
    "\n",
    "plt.imshow(to_pil(inv_t(test_dataset[12][0])))\n",
    "\n",
    "print(\"Input shape:\", test_dataset[0][0].shape)"
   ]
  },
  {
   "cell_type": "markdown",
   "id": "b0f5c78f",
   "metadata": {
    "_cell_guid": "cf723c8d-9711-4184-86b5-3b5580ca5ea1",
    "_uuid": "94f988a5-0ba1-44d5-93bd-205107e315a1",
    "papermill": {
     "duration": 0.007168,
     "end_time": "2025-06-01T22:35:47.538080",
     "exception": false,
     "start_time": "2025-06-01T22:35:47.530912",
     "status": "completed"
    },
    "tags": []
   },
   "source": [
    "# Init model"
   ]
  },
  {
   "cell_type": "code",
   "execution_count": 8,
   "id": "e6d578e4",
   "metadata": {
    "_cell_guid": "0c680c92-bbe9-4b81-8eca-6e58f976467e",
    "_uuid": "26f00ec1-2d45-4b81-b2a6-be664aafdaeb",
    "collapsed": false,
    "execution": {
     "iopub.execute_input": "2025-06-01T22:35:47.553879Z",
     "iopub.status.busy": "2025-06-01T22:35:47.553583Z",
     "iopub.status.idle": "2025-06-01T22:35:50.217817Z",
     "shell.execute_reply": "2025-06-01T22:35:50.216793Z"
    },
    "jupyter": {
     "outputs_hidden": false
    },
    "papermill": {
     "duration": 2.673728,
     "end_time": "2025-06-01T22:35:50.219307",
     "exception": false,
     "start_time": "2025-06-01T22:35:47.545579",
     "status": "completed"
    },
    "tags": []
   },
   "outputs": [
    {
     "name": "stdout",
     "output_type": "stream",
     "text": [
      "Number of trainable params: 235,098,755\n",
      "Model device: cuda:0\n",
      "{'use_constant_lr': False, 'lr_scheduler__class': 'CosineAnnealingLR', 'lr': 0.0001, 'weight_decay': 0.0, 'lr_sched_freq__step': 1, 'lr_scheduler__kwargs': {'T_max': 391000, 'eta_min': 1e-06}}\n"
     ]
    }
   ],
   "source": [
    "optimizer_kwargs=dict(\n",
    "    use_constant_lr=config[\"use_constant_lr\"],\n",
    "    lr_scheduler__class=config[\"lr_scheduler__class\"],\n",
    "    lr=config[\"lr\"],\n",
    "    weight_decay=config[\"weight_decay\"],\n",
    ")\n",
    "\n",
    "if config[\"lr_scheduler__class\"] == \"CosineAnnealingLR\":\n",
    "    optimizer_kwargs[\"lr_sched_freq__step\"] = 1\n",
    "    optimizer_kwargs[\"lr_scheduler__kwargs\"] = {\n",
    "        \"T_max\": config[\"num_epoch\"] * steps_per_epoch,\n",
    "        \"eta_min\": config[\"lr\"] / 100\n",
    "    }\n",
    "elif config[\"lr_scheduler_class\"] == \"ReduceLROnPlateau\":\n",
    "    optimizer_kwargs[\"lr_sched_freq__step\"] = steps_per_epoch\n",
    "    optimizer_kwargs[\"lr_scheduler__kwargs\"] = {\n",
    "        \"T_max\": config[\"num_epoch\"] * steps_per_epoch,\n",
    "        \"eta_min\": config[\"lr\"] / 100\n",
    "    }\n",
    "\n",
    "model = DDPMUNet(\n",
    "    n_steps=config[\"ddpm__n_steps\"],\n",
    "    input_size=config[\"ddpm__input_image_size\"],\n",
    "    optimizers_kwarg=optimizer_kwargs,\n",
    "    eps_model_kwargs=dict(\n",
    "        n_blocks=config[\"unet__n_blocks\"], \n",
    "        n_channels=config[\"unet__hidden_dim\"],\n",
    "        channels_mult=config[\"unet__channels_mult\"], \n",
    "        is_attn=config[\"unet__is_attn\"],\n",
    "        res_block_dropout=config[\"dropout\"],\n",
    "        use_conv_for_res_change=config[\"unet__use_conv_for_res_change\"],\n",
    "        input_channels=config[\"ddpm__input_image_channels\"]\n",
    "    ),\n",
    "    is_finetune=False,   # we're not interested in finetuning for a while...\n",
    ").to(device)\n",
    "       \n",
    "print(f\"Number of trainable params: {sum(p.numel() for p in model.eps_model.parameters() if p.requires_grad):,}\")\n",
    "print(\"Model device:\", model.device)\n",
    "\n",
    "print(optimizer_kwargs)"
   ]
  },
  {
   "cell_type": "code",
   "execution_count": 9,
   "id": "2327f8a8",
   "metadata": {
    "execution": {
     "iopub.execute_input": "2025-06-01T22:35:50.236376Z",
     "iopub.status.busy": "2025-06-01T22:35:50.236114Z",
     "iopub.status.idle": "2025-06-01T22:35:50.815513Z",
     "shell.execute_reply": "2025-06-01T22:35:50.814544Z"
    },
    "papermill": {
     "duration": 0.590577,
     "end_time": "2025-06-01T22:35:50.818439",
     "exception": false,
     "start_time": "2025-06-01T22:35:50.227862",
     "status": "completed"
    },
    "tags": []
   },
   "outputs": [
    {
     "data": {
      "image/png": "[encoded data removed]",
      "text/plain": [
       "<Figure size 1000x100 with 10 Axes>"
      ]
     },
     "metadata": {},
     "output_type": "display_data"
    }
   ],
   "source": [
    "# test model forward noising\n",
    "sample_img = train_dataset[13][0]\n",
    "\n",
    "num_imgs = 10\n",
    "ts = torch.as_tensor(np.round(np.linspace(0, model.n_steps-1, num_imgs)), dtype=torch.long).to(model.device)\n",
    "x = torch.unsqueeze(sample_img, 0).expand(num_imgs, *sample_img.shape).to(model.device)\n",
    "true_noise_e = torch.randn_like(x).to(model.device)\n",
    "noised_x_t = model.noise_sample_at_timestep(x, ts, true_noise_e).cpu()\n",
    "\n",
    "fig, axs = plt.subplots(ncols=num_imgs, nrows=1, figsize=(num_imgs, 1))\n",
    "for idx, ax in enumerate(axs):\n",
    "    ax.imshow(to_pil(inv_t(noised_x_t[idx])))\n",
    "    ax.grid(False)\n",
    "    ax.axis(False)\n",
    "    ax.set_title(f\"t={str(ts[idx].item())}\")\n",
    "    \n",
    "plt.show()"
   ]
  },
  {
   "cell_type": "code",
   "execution_count": 10,
   "id": "305b992e",
   "metadata": {
    "execution": {
     "iopub.execute_input": "2025-06-01T22:35:50.841194Z",
     "iopub.status.busy": "2025-06-01T22:35:50.840898Z",
     "iopub.status.idle": "2025-06-01T22:38:07.874829Z",
     "shell.execute_reply": "2025-06-01T22:38:07.873851Z"
    },
    "papermill": {
     "duration": 137.046973,
     "end_time": "2025-06-01T22:38:07.876823",
     "exception": false,
     "start_time": "2025-06-01T22:35:50.829850",
     "status": "completed"
    },
    "tags": []
   },
   "outputs": [
    {
     "data": {
      "text/plain": [
       "<matplotlib.image.AxesImage at 0x7e1af0343fd0>"
      ]
     },
     "execution_count": 10,
     "metadata": {},
     "output_type": "execute_result"
    },
    {
     "data": {
      "image/png": "[encoded data removed]",
      "text/plain": [
       "<Figure size 640x480 with 1 Axes>"
      ]
     },
     "metadata": {},
     "output_type": "display_data"
    }
   ],
   "source": [
    "# test model denoising\n",
    "out = model.sample(batch_size=1, input_channels=config[\"ddpm__input_image_channels\"])\n",
    "plt.imshow(to_pil(inv_t(out.cpu()[0])))"
   ]
  },
  {
   "cell_type": "markdown",
   "id": "b8b3a1c9",
   "metadata": {
    "_cell_guid": "251551c5-3a53-4a48-8d44-2ec0ce3d923a",
    "_uuid": "9ada2b4e-0e48-44a8-a2fb-492d949ab702",
    "papermill": {
     "duration": 0.010269,
     "end_time": "2025-06-01T22:38:07.899492",
     "exception": false,
     "start_time": "2025-06-01T22:38:07.889223",
     "status": "completed"
    },
    "tags": []
   },
   "source": [
    "# Train"
   ]
  },
  {
   "cell_type": "code",
   "execution_count": 11,
   "id": "e1861225",
   "metadata": {
    "_cell_guid": "1472c65f-f076-4f5a-bc2c-ef60d0d3e958",
    "_uuid": "5bcc4915-e866-4bf9-bbec-fc4526654dc3",
    "collapsed": false,
    "execution": {
     "iopub.execute_input": "2025-06-01T22:38:07.921527Z",
     "iopub.status.busy": "2025-06-01T22:38:07.921175Z",
     "iopub.status.idle": "2025-06-02T08:45:07.921657Z",
     "shell.execute_reply": "2025-06-02T08:45:07.920648Z"
    },
    "jupyter": {
     "outputs_hidden": false
    },
    "papermill": {
     "duration": 36420.013526,
     "end_time": "2025-06-02T08:45:07.923393",
     "exception": false,
     "start_time": "2025-06-01T22:38:07.909867",
     "status": "completed"
    },
    "tags": []
   },
   "outputs": [
    {
     "name": "stderr",
     "output_type": "stream",
     "text": [
      "/usr/local/lib/python3.10/dist-packages/pytorch_lightning/loggers/wandb.py:397: There is a wandb run already in progress and newly created instances of `WandbLogger` will reuse this run. If this is not desired, call `wandb.finish()` before instantiating `WandbLogger`.\n",
      "\u001b[34m\u001b[1mwandb\u001b[0m: logging graph, to disable use `wandb.watch(log_graph=False)`\n",
      "/usr/local/lib/python3.10/dist-packages/pytorch_lightning/callbacks/model_checkpoint.py:654: Checkpoint directory s3://deep-learning-personal-projects/test-ddpm-lightning/setviymk/ exists and is not empty.\n"
     ]
    },
    {
     "data": {
      "application/vnd.jupyter.widget-view+json": {
       "model_id": "9a8b4d196ff14ba09e8bafa5320b7b9e",
       "version_major": 2,
       "version_minor": 0
      },
      "text/plain": [
       "Training: |          | 0/? [00:00<?, ?it/s]"
      ]
     },
     "metadata": {},
     "output_type": "display_data"
    },
    {
     "name": "stderr",
     "output_type": "stream",
     "text": [
      "/usr/local/lib/python3.10/dist-packages/pytorch_lightning/loops/training_epoch_loop.py:221: You're resuming from a checkpoint that ended before the epoch ended and your dataloader is not resumable. This can cause unreliable results if further training is done. Consider using an end-of-epoch checkpoint or make your dataloader resumable by implementing the `state_dict` / `load_state_dict` interface.\n",
      "/usr/local/lib/python3.10/dist-packages/wandb/wandb_torch.py:193: UserWarning: The torch.cuda.*DtypeTensor constructors are no longer recommended. It's best to use methods such as torch.tensor(data, dtype=*, device='cuda') to create tensors. (Triggered internally at ../torch/csrc/tensor/python_tensor.cpp:78.)\n",
      "  check = torch.cuda.FloatTensor(1).fill_(0)\n",
      "/usr/local/lib/python3.10/dist-packages/pytorch_lightning/callbacks/model_checkpoint.py:384: `ModelCheckpoint(monitor='valid_loss__epoch')` could not find the monitored key in the returned metrics: ['train_loss__step', 'lr-Adam', 'epoch', 'step']. HINT: Did you call `log('valid_loss__epoch', value)` in the `LightningModule`?\n"
     ]
    },
    {
     "data": {
      "application/vnd.jupyter.widget-view+json": {
       "model_id": "6d87b6e6364142d69cb38b1ec4cbc233",
       "version_major": 2,
       "version_minor": 0
      },
      "text/plain": [
       "Validation: |          | 0/? [00:00<?, ?it/s]"
      ]
     },
     "metadata": {},
     "output_type": "display_data"
    },
    {
     "data": {
      "application/vnd.jupyter.widget-view+json": {
       "model_id": "26765c9092d544bfa9d889aeaa25992e",
       "version_major": 2,
       "version_minor": 0
      },
      "text/plain": [
       "Validation: |          | 0/? [00:00<?, ?it/s]"
      ]
     },
     "metadata": {},
     "output_type": "display_data"
    },
    {
     "data": {
      "application/vnd.jupyter.widget-view+json": {
       "model_id": "d97c18eaf36b4eee8c594547f1b5251f",
       "version_major": 2,
       "version_minor": 0
      },
      "text/plain": [
       "Validation: |          | 0/? [00:00<?, ?it/s]"
      ]
     },
     "metadata": {},
     "output_type": "display_data"
    },
    {
     "data": {
      "application/vnd.jupyter.widget-view+json": {
       "model_id": "9b6d30edc1384f8e929c86ed27aa6f6e",
       "version_major": 2,
       "version_minor": 0
      },
      "text/plain": [
       "Validation: |          | 0/? [00:00<?, ?it/s]"
      ]
     },
     "metadata": {},
     "output_type": "display_data"
    }
   ],
   "source": [
    "callbacks = [\n",
    "    EarlyStopping(\n",
    "        monitor=\"train_loss__step\",\n",
    "        min_delta=-float('inf'),       # always accept\n",
    "        patience=5,\n",
    "        verbose=False,\n",
    "        check_finite=True,\n",
    "        mode=\"min\",\n",
    "    ),\n",
    "]\n",
    "logger = None\n",
    "\n",
    "validate_every_n_steps = (steps_per_epoch * config[\"num_epoch\"]) // 100\n",
    "\n",
    "if config[\"log_wandb\"]:\n",
    "    logger = WandbLogger(project=project_name, prefix=\"CIFAR\")\n",
    "    \n",
    "    try:\n",
    "        logger.watch(model)\n",
    "    except ValueError as e:\n",
    "        if \"You can only call `wandb.watch` once per model.\" not in str(e):\n",
    "            raise e\n",
    "            \n",
    "    callbacks.append(\n",
    "        SampleCallback(\n",
    "            logger=logger, \n",
    "            inv_normaliser=make_inv_normaliser(), \n",
    "            every_n_steps=validate_every_n_steps, \n",
    "            batch_size=4,\n",
    "            input_channels=config[\"ddpm__input_image_channels\"],\n",
    "        )\n",
    "    )\n",
    "    callbacks.append(\n",
    "        DenoiseMidwaySampleCallback(\n",
    "            logger=logger, \n",
    "            seed_img_transformed=test_dataset[12][0],\n",
    "            noise_at_ts=[100, 50, 10],\n",
    "            every_n_steps=validate_every_n_steps,\n",
    "            inv_normaliser=make_inv_normaliser()\n",
    "        )\n",
    "    )\n",
    "\n",
    "    callbacks.append(\n",
    "        ModelCheckpoint(\n",
    "            dirpath=f\"s3://deep-learning-personal-projects/{project_name}/{run.id}/\",\n",
    "            filename=\"{epoch}-{step}--valid_loss={valid_loss__epoch:.3f}\",\n",
    "            monitor=\"valid_loss__epoch\",\n",
    "            save_last=True,\n",
    "            train_time_interval=datetime.timedelta(minutes=45),\n",
    "            save_top_k=1,\n",
    "            mode=\"min\",\n",
    "            enable_version_counter=False,\n",
    "        )\n",
    "    )\n",
    "\n",
    "    callbacks.append(LearningRateMonitor(logging_interval='step'))\n",
    "\n",
    "trainer = Trainer(\n",
    "    accelerator=\"gpu\" if device == \"cuda\" else \"cpu\", \n",
    "    devices=1, \n",
    "    max_epochs=config[\"num_epoch\"],\n",
    "    log_every_n_steps=config[\"accumulate_grad_batches\"], # if accumulate, reduce logging frequency since we only do one optimisation step after X batches\n",
    "    precision=32,\n",
    "    logger=logger,\n",
    "    callbacks=callbacks,\n",
    "    accumulate_grad_batches=config[\"accumulate_grad_batches\"],\n",
    "    overfit_batches=config[\"overfit_batch\"],\n",
    "    max_time=config[\"max_trainer_time_limit\"],\n",
    "    check_val_every_n_epoch=None,\n",
    "    val_check_interval=validate_every_n_steps * config[\"accumulate_grad_batches\"],\n",
    ")\n",
    "\n",
    "trainer.fit(\n",
    "    model, \n",
    "    train_dataloaders=train_loader,\n",
    "    val_dataloaders=valid_loader,   \n",
    "    ckpt_path=(\n",
    "        f\"s3://deep-learning-personal-projects/{project_name}/{config['use_existing_run']}/last.ckpt\" \n",
    "        if config[\"use_existing_run\"]\n",
    "        else None\n",
    "    )\n",
    ")"
   ]
  },
  {
   "cell_type": "code",
   "execution_count": 12,
   "id": "d9dc53e1",
   "metadata": {
    "execution": {
     "iopub.execute_input": "2025-06-02T08:45:07.948322Z",
     "iopub.status.busy": "2025-06-02T08:45:07.948048Z",
     "iopub.status.idle": "2025-06-02T08:53:48.416145Z",
     "shell.execute_reply": "2025-06-02T08:53:48.415119Z"
    },
    "papermill": {
     "duration": 520.481606,
     "end_time": "2025-06-02T08:53:48.417718",
     "exception": false,
     "start_time": "2025-06-02T08:45:07.936112",
     "status": "completed"
    },
    "tags": []
   },
   "outputs": [
    {
     "data": {
      "text/plain": [
       "<matplotlib.image.AxesImage at 0x7e1af03a5570>"
      ]
     },
     "execution_count": 12,
     "metadata": {},
     "output_type": "execute_result"
    },
    {
     "data": {
      "image/png": "[encoded data removed]",
      "text/plain": [
       "<Figure size 640x480 with 1 Axes>"
      ]
     },
     "metadata": {},
     "output_type": "display_data"
    }
   ],
   "source": [
    "# test model denoising after training\n",
    "out = model.sample(batch_size=1, input_channels=config[\"ddpm__input_image_channels\"])\n",
    "plt.imshow(to_pil(inv_t(out.cpu()[0])))"
   ]
  },
  {
   "cell_type": "code",
   "execution_count": 13,
   "id": "4608125c",
   "metadata": {
    "_cell_guid": "1e85271e-c6f7-41e1-86cb-216a74924336",
    "_uuid": "6aa28cef-6dc2-4443-abba-9228d6014f35",
    "collapsed": false,
    "execution": {
     "iopub.execute_input": "2025-06-02T08:53:48.443122Z",
     "iopub.status.busy": "2025-06-02T08:53:48.442820Z",
     "iopub.status.idle": "2025-06-02T08:53:53.349308Z",
     "shell.execute_reply": "2025-06-02T08:53:53.348648Z"
    },
    "jupyter": {
     "outputs_hidden": false
    },
    "papermill": {
     "duration": 4.920239,
     "end_time": "2025-06-02T08:53:53.350694",
     "exception": false,
     "start_time": "2025-06-02T08:53:48.430455",
     "status": "completed"
    },
    "tags": []
   },
   "outputs": [
    {
     "data": {
      "text/html": [
       "Waiting for W&B process to finish... <strong style=\"color:green\">(success).</strong>"
      ],
      "text/plain": [
       "<IPython.core.display.HTML object>"
      ]
     },
     "metadata": {},
     "output_type": "display_data"
    },
    {
     "data": {
      "application/vnd.jupyter.widget-view+json": {
       "model_id": "1534f84970fc4379af40ca74d6de66e3",
       "version_major": 2,
       "version_minor": 0
      },
      "text/plain": [
       "VBox(children=(Label(value='0.382 MB of 0.382 MB uploaded (0.000 MB deduped)\\r'), FloatProgress(value=1.0, max…"
      ]
     },
     "metadata": {},
     "output_type": "display_data"
    },
    {
     "data": {
      "text/html": [
       "<style>\n",
       "    table.wandb td:nth-child(1) { padding: 0 10px; text-align: left ; width: auto;} td:nth-child(2) {text-align: left ; width: 100%}\n",
       "    .wandb-row { display: flex; flex-direction: row; flex-wrap: wrap; justify-content: flex-start; width: 100% }\n",
       "    .wandb-col { display: flex; flex-direction: column; flex-basis: 100%; flex: 1; padding: 10px; }\n",
       "    </style>\n",
       "<div class=\"wandb-row\"><div class=\"wandb-col\"><h3>Run history:</h3><br/><table class=\"wandb\"><tr><td>CIFAR-epoch</td><td>▁▁▁▂▂▂▂▂▂▃▃▃▃▃▃▄▄▄▄▄▅▅▅▅▅▅▅▆▆▆▆▆▇▇▇▇▇▇██</td></tr><tr><td>CIFAR-lr-Adam</td><td>████▇▇▇▇▇▇▆▆▆▆▆▆▅▅▅▅▅▄▄▄▄▄▄▃▃▃▃▃▂▂▂▂▂▁▁▁</td></tr><tr><td>CIFAR-train_loss__step</td><td>▂▂▆▁▄▇▃▆▄█▆▃▃▃▄▃▄▅▅▂▃▅▂▄▃▄▂▃▂▃▄▄▂▆▃▇▅▂▅▆</td></tr><tr><td>CIFAR-valid_loss__epoch</td><td>▂▁█▆</td></tr><tr><td>trainer/global_step</td><td>▁▁▁▁▂▂▂▂▂▃▃▃▃▃▃▄▄▄▄▄▅▅▅▅▅▅▆▆▆▆▆▇▇▇▇▇▇███</td></tr></table><br/></div><div class=\"wandb-col\"><h3>Run summary:</h3><br/><table class=\"wandb\"><tr><td>CIFAR-epoch</td><td>150</td></tr><tr><td>CIFAR-lr-Adam</td><td>9e-05</td></tr><tr><td>CIFAR-train_loss__step</td><td>0.01937</td></tr><tr><td>CIFAR-valid_loss__epoch</td><td>0.01721</td></tr><tr><td>trainer/global_step</td><td>58722</td></tr></table><br/></div></div>"
      ],
      "text/plain": [
       "<IPython.core.display.HTML object>"
      ]
     },
     "metadata": {},
     "output_type": "display_data"
    },
    {
     "data": {
      "text/html": [
       " View run <strong style=\"color:#cdcd00\">restful-thunder-15</strong> at: <a href='https://wandb.ai/hoanglongdang2001/test-ddpm-lightning/runs/setviymk' target=\"_blank\">https://wandb.ai/hoanglongdang2001/test-ddpm-lightning/runs/setviymk</a><br/>Synced 3 W&B file(s), 21 media file(s), 0 artifact file(s) and 0 other file(s)"
      ],
      "text/plain": [
       "<IPython.core.display.HTML object>"
      ]
     },
     "metadata": {},
     "output_type": "display_data"
    },
    {
     "data": {
      "text/html": [
       "Find logs at: <code>./wandb/run-20250601_223532-setviymk/logs</code>"
      ],
      "text/plain": [
       "<IPython.core.display.HTML object>"
      ]
     },
     "metadata": {},
     "output_type": "display_data"
    }
   ],
   "source": [
    "if log_wandb:\n",
    "    wandb.finish()"
   ]
  }
 ],
 "metadata": {
  "kaggle": {
   "accelerator": "gpu",
   "dataSources": [],
   "dockerImageVersionId": 30919,
   "isGpuEnabled": true,
   "isInternetEnabled": true,
   "language": "python",
   "sourceType": "notebook"
  },
  "kernelspec": {
   "display_name": "Python 3",
   "language": "python",
   "name": "python3"
  },
  "language_info": {
   "codemirror_mode": {
    "name": "ipython",
    "version": 3
   },
   "file_extension": ".py",
   "mimetype": "text/x-python",
   "name": "python",
   "nbconvert_exporter": "python",
   "pygments_lexer": "ipython3",
   "version": "3.10.12"
  },
  "papermill": {
   "default_parameters": {},
   "duration": 37154.913388,
   "end_time": "2025-06-02T08:53:56.434711",
   "environment_variables": {},
   "exception": null,
   "input_path": "__notebook__.ipynb",
   "output_path": "__notebook__.ipynb",
   "parameters": {},
   "start_time": "2025-06-01T22:34:41.521323",
   "version": "2.6.0"
  },
  "widgets": {
   "application/vnd.jupyter.widget-state+json": {
    "state": {
     "033f3eeec10f4c2f817557aeb9ed25d7": {
      "model_module": "@jupyter-widgets/controls",
      "model_module_version": "2.0.0",
      "model_name": "HTMLModel",
      "state": {
       "_dom_classes": [],
       "_model_module": "@jupyter-widgets/controls",
       "_model_module_version": "2.0.0",
       "_model_name": "HTMLModel",
       "_view_count": null,
       "_view_module": "@jupyter-widgets/controls",
       "_view_module_version": "2.0.0",
       "_view_name": "HTMLView",
       "description": "",
       "description_allow_html": false,
       "layout": "IPY_MODEL_2de7d147a71949c8b1b72f94f674ab3f",
       "placeholder": "​",
       "style": "IPY_MODEL_c033984cf37d476aa3ce10ce319424c1",
       "tabbable": null,
       "tooltip": null,
       "value": " 313/313 [01:12&lt;00:00,  4.31it/s]"
      }
     },
     "07f6a47317c24de4b05fdf57664851af": {
      "model_module": "@jupyter-widgets/controls",
      "model_module_version": "2.0.0",
      "model_name": "FloatProgressModel",
      "state": {
       "_dom_classes": [],
       "_model_module": "@jupyter-widgets/controls",
       "_model_module_version": "2.0.0",
       "_model_name": "FloatProgressModel",
       "_view_count": null,
       "_view_module": "@jupyter-widgets/controls",
       "_view_module_version": "2.0.0",
       "_view_name": "ProgressView",
       "bar_style": "",
       "description": "",
       "description_allow_html": false,
       "layout": "IPY_MODEL_2c26e876a3f946c59ab912a81ff2075e",
       "max": 1.0,
       "min": 0.0,
       "orientation": "horizontal",
       "style": "IPY_MODEL_99d747a902664368af82c5c99c34e8bd",
       "tabbable": null,
       "tooltip": null,
       "value": 0.084464979533007
      }
     },
     "090bc56dbfa84c3e9d3361c95b5d41b6": {
      "model_module": "@jupyter-widgets/controls",
      "model_module_version": "2.0.0",
      "model_name": "LabelModel",
      "state": {
       "_dom_classes": [],
       "_model_module": "@jupyter-widgets/controls",
       "_model_module_version": "2.0.0",
       "_model_name": "LabelModel",
       "_view_count": null,
       "_view_module": "@jupyter-widgets/controls",
       "_view_module_version": "2.0.0",
       "_view_name": "LabelView",
       "description": "",
       "description_allow_html": false,
       "layout": "IPY_MODEL_8d529e9ce5ee41d6a4766f6a7d7da2d3",
       "placeholder": "​",
       "style": "IPY_MODEL_d111a21779d04c9ea6b7d381303b93f5",
       "tabbable": null,
       "tooltip": null,
       "value": "0.382 MB of 4.520 MB uploaded (0.000 MB deduped)\r"
      }
     },
     "09ba6944cb5241c6af9ad3071f2fad60": {
      "model_module": "@jupyter-widgets/base",
      "model_module_version": "2.0.0",
      "model_name": "LayoutModel",
      "state": {
       "_model_module": "@jupyter-widgets/base",
       "_model_module_version": "2.0.0",
       "_model_name": "LayoutModel",
       "_view_count": null,
       "_view_module": "@jupyter-widgets/base",
       "_view_module_version": "2.0.0",
       "_view_name": "LayoutView",
       "align_content": null,
       "align_items": null,
       "align_self": null,
       "border_bottom": null,
       "border_left": null,
       "border_right": null,
       "border_top": null,
       "bottom": null,
       "display": null,
       "flex": "2",
       "flex_flow": null,
       "grid_area": null,
       "grid_auto_columns": null,
       "grid_auto_flow": null,
       "grid_auto_rows": null,
       "grid_column": null,
       "grid_gap": null,
       "grid_row": null,
       "grid_template_areas": null,
       "grid_template_columns": null,
       "grid_template_rows": null,
       "height": null,
       "justify_content": null,
       "justify_items": null,
       "left": null,
       "margin": null,
       "max_height": null,
       "max_width": null,
       "min_height": null,
       "min_width": null,
       "object_fit": null,
       "object_position": null,
       "order": null,
       "overflow": null,
       "padding": null,
       "right": null,
       "top": null,
       "visibility": null,
       "width": null
      }
     },
     "0a3fdf3198b44d61b459cf3419c5bd69": {
      "model_module": "@jupyter-widgets/controls",
      "model_module_version": "2.0.0",
      "model_name": "HTMLStyleModel",
      "state": {
       "_model_module": "@jupyter-widgets/controls",
       "_model_module_version": "2.0.0",
       "_model_name": "HTMLStyleModel",
       "_view_count": null,
       "_view_module": "@jupyter-widgets/base",
       "_view_module_version": "2.0.0",
       "_view_name": "StyleView",
       "background": null,
       "description_width": "",
       "font_size": null,
       "text_color": null
      }
     },
     "1534f84970fc4379af40ca74d6de66e3": {
      "model_module": "@jupyter-widgets/controls",
      "model_module_version": "2.0.0",
      "model_name": "VBoxModel",
      "state": {
       "_dom_classes": [],
       "_model_module": "@jupyter-widgets/controls",
       "_model_module_version": "2.0.0",
       "_model_name": "VBoxModel",
       "_view_count": null,
       "_view_module": "@jupyter-widgets/controls",
       "_view_module_version": "2.0.0",
       "_view_name": "VBoxView",
       "box_style": "",
       "children": [
        "IPY_MODEL_090bc56dbfa84c3e9d3361c95b5d41b6",
        "IPY_MODEL_07f6a47317c24de4b05fdf57664851af"
       ],
       "layout": "IPY_MODEL_d695a286e4fb4fbc8ff3a03cc9f49774",
       "tabbable": null,
       "tooltip": null
      }
     },
     "18d32be0c6604e18892101a92bf49ace": {
      "model_module": "@jupyter-widgets/controls",
      "model_module_version": "2.0.0",
      "model_name": "HTMLStyleModel",
      "state": {
       "_model_module": "@jupyter-widgets/controls",
       "_model_module_version": "2.0.0",
       "_model_name": "HTMLStyleModel",
       "_view_count": null,
       "_view_module": "@jupyter-widgets/base",
       "_view_module_version": "2.0.0",
       "_view_name": "StyleView",
       "background": null,
       "description_width": "",
       "font_size": null,
       "text_color": null
      }
     },
     "1b9bff27dbdf4c1eaed4764afd99d165": {
      "model_module": "@jupyter-widgets/base",
      "model_module_version": "2.0.0",
      "model_name": "LayoutModel",
      "state": {
       "_model_module": "@jupyter-widgets/base",
       "_model_module_version": "2.0.0",
       "_model_name": "LayoutModel",
       "_view_count": null,
       "_view_module": "@jupyter-widgets/base",
       "_view_module_version": "2.0.0",
       "_view_name": "LayoutView",
       "align_content": null,
       "align_items": null,
       "align_self": null,
       "border_bottom": null,
       "border_left": null,
       "border_right": null,
       "border_top": null,
       "bottom": null,
       "display": "inline-flex",
       "flex": null,
       "flex_flow": "row wrap",
       "grid_area": null,
       "grid_auto_columns": null,
       "grid_auto_flow": null,
       "grid_auto_rows": null,
       "grid_column": null,
       "grid_gap": null,
       "grid_row": null,
       "grid_template_areas": null,
       "grid_template_columns": null,
       "grid_template_rows": null,
       "height": null,
       "justify_content": null,
       "justify_items": null,
       "left": null,
       "margin": null,
       "max_height": null,
       "max_width": null,
       "min_height": null,
       "min_width": null,
       "object_fit": null,
       "object_position": null,
       "order": null,
       "overflow": null,
       "padding": null,
       "right": null,
       "top": null,
       "visibility": "hidden",
       "width": "100%"
      }
     },
     "1defa55e9fe442c38ee21e90c03e01b0": {
      "model_module": "@jupyter-widgets/base",
      "model_module_version": "2.0.0",
      "model_name": "LayoutModel",
      "state": {
       "_model_module": "@jupyter-widgets/base",
       "_model_module_version": "2.0.0",
       "_model_name": "LayoutModel",
       "_view_count": null,
       "_view_module": "@jupyter-widgets/base",
       "_view_module_version": "2.0.0",
       "_view_name": "LayoutView",
       "align_content": null,
       "align_items": null,
       "align_self": null,
       "border_bottom": null,
       "border_left": null,
       "border_right": null,
       "border_top": null,
       "bottom": null,
       "display": null,
       "flex": null,
       "flex_flow": null,
       "grid_area": null,
       "grid_auto_columns": null,
       "grid_auto_flow": null,
       "grid_auto_rows": null,
       "grid_column": null,
       "grid_gap": null,
       "grid_row": null,
       "grid_template_areas": null,
       "grid_template_columns": null,
       "grid_template_rows": null,
       "height": null,
       "justify_content": null,
       "justify_items": null,
       "left": null,
       "margin": null,
       "max_height": null,
       "max_width": null,
       "min_height": null,
       "min_width": null,
       "object_fit": null,
       "object_position": null,
       "order": null,
       "overflow": null,
       "padding": null,
       "right": null,
       "top": null,
       "visibility": null,
       "width": null
      }
     },
     "1f1d356dad6a46dca34b137b2b1cf1af": {
      "model_module": "@jupyter-widgets/controls",
      "model_module_version": "2.0.0",
      "model_name": "HTMLModel",
      "state": {
       "_dom_classes": [],
       "_model_module": "@jupyter-widgets/controls",
       "_model_module_version": "2.0.0",
       "_model_name": "HTMLModel",
       "_view_count": null,
       "_view_module": "@jupyter-widgets/controls",
       "_view_module_version": "2.0.0",
       "_view_name": "HTMLView",
       "description": "",
       "description_allow_html": false,
       "layout": "IPY_MODEL_2c78ccc9f09d4903b1e80ff161f7672b",
       "placeholder": "​",
       "style": "IPY_MODEL_0a3fdf3198b44d61b459cf3419c5bd69",
       "tabbable": null,
       "tooltip": null,
       "value": "Validation DataLoader 0: 100%"
      }
     },
     "25feacac84e441e491125e6d58b9c42b": {
      "model_module": "@jupyter-widgets/controls",
      "model_module_version": "2.0.0",
      "model_name": "HTMLModel",
      "state": {
       "_dom_classes": [],
       "_model_module": "@jupyter-widgets/controls",
       "_model_module_version": "2.0.0",
       "_model_name": "HTMLModel",
       "_view_count": null,
       "_view_module": "@jupyter-widgets/controls",
       "_view_module_version": "2.0.0",
       "_view_name": "HTMLView",
       "description": "",
       "description_allow_html": false,
       "layout": "IPY_MODEL_f7d6f363b6104fc5b15144d4fb0bf390",
       "placeholder": "​",
       "style": "IPY_MODEL_f56658b6d3cd4da487832e300768dfc4",
       "tabbable": null,
       "tooltip": null,
       "value": "Validation DataLoader 0: 100%"
      }
     },
     "26765c9092d544bfa9d889aeaa25992e": {
      "model_module": "@jupyter-widgets/controls",
      "model_module_version": "2.0.0",
      "model_name": "HBoxModel",
      "state": {
       "_dom_classes": [],
       "_model_module": "@jupyter-widgets/controls",
       "_model_module_version": "2.0.0",
       "_model_name": "HBoxModel",
       "_view_count": null,
       "_view_module": "@jupyter-widgets/controls",
       "_view_module_version": "2.0.0",
       "_view_name": "HBoxView",
       "box_style": "",
       "children": [
        "IPY_MODEL_49e4768025b44b688fb9cf789e80333c",
        "IPY_MODEL_eb4d99b7e9b54df4ac2b653bcbd5b88b",
        "IPY_MODEL_ade379510d154c869ae04288eec0ea07"
       ],
       "layout": "IPY_MODEL_4fc5b48dde2643f182a8d21bbda3509a",
       "tabbable": null,
       "tooltip": null
      }
     },
     "2aaf4820118d4f159d0adabec2faaa11": {
      "model_module": "@jupyter-widgets/controls",
      "model_module_version": "2.0.0",
      "model_name": "HTMLModel",
      "state": {
       "_dom_classes": [],
       "_model_module": "@jupyter-widgets/controls",
       "_model_module_version": "2.0.0",
       "_model_name": "HTMLModel",
       "_view_count": null,
       "_view_module": "@jupyter-widgets/controls",
       "_view_module_version": "2.0.0",
       "_view_name": "HTMLView",
       "description": "",
       "description_allow_html": false,
       "layout": "IPY_MODEL_b9e8d9faacd74f58bbbab090b0486372",
       "placeholder": "​",
       "style": "IPY_MODEL_18d32be0c6604e18892101a92bf49ace",
       "tabbable": null,
       "tooltip": null,
       "value": " 296/1563 [11:30&lt;49:14,  0.43it/s, v_num=iymk, train_loss__step=0.0194, valid_loss__epoch=0.0172]"
      }
     },
     "2c26e876a3f946c59ab912a81ff2075e": {
      "model_module": "@jupyter-widgets/base",
      "model_module_version": "2.0.0",
      "model_name": "LayoutModel",
      "state": {
       "_model_module": "@jupyter-widgets/base",
       "_model_module_version": "2.0.0",
       "_model_name": "LayoutModel",
       "_view_count": null,
       "_view_module": "@jupyter-widgets/base",
       "_view_module_version": "2.0.0",
       "_view_name": "LayoutView",
       "align_content": null,
       "align_items": null,
       "align_self": null,
       "border_bottom": null,
       "border_left": null,
       "border_right": null,
       "border_top": null,
       "bottom": null,
       "display": null,
       "flex": null,
       "flex_flow": null,
       "grid_area": null,
       "grid_auto_columns": null,
       "grid_auto_flow": null,
       "grid_auto_rows": null,
       "grid_column": null,
       "grid_gap": null,
       "grid_row": null,
       "grid_template_areas": null,
       "grid_template_columns": null,
       "grid_template_rows": null,
       "height": null,
       "justify_content": null,
       "justify_items": null,
       "left": null,
       "margin": null,
       "max_height": null,
       "max_width": null,
       "min_height": null,
       "min_width": null,
       "object_fit": null,
       "object_position": null,
       "order": null,
       "overflow": null,
       "padding": null,
       "right": null,
       "top": null,
       "visibility": null,
       "width": null
      }
     },
     "2c78ccc9f09d4903b1e80ff161f7672b": {
      "model_module": "@jupyter-widgets/base",
      "model_module_version": "2.0.0",
      "model_name": "LayoutModel",
      "state": {
       "_model_module": "@jupyter-widgets/base",
       "_model_module_version": "2.0.0",
       "_model_name": "LayoutModel",
       "_view_count": null,
       "_view_module": "@jupyter-widgets/base",
       "_view_module_version": "2.0.0",
       "_view_name": "LayoutView",
       "align_content": null,
       "align_items": null,
       "align_self": null,
       "border_bottom": null,
       "border_left": null,
       "border_right": null,
       "border_top": null,
       "bottom": null,
       "display": null,
       "flex": null,
       "flex_flow": null,
       "grid_area": null,
       "grid_auto_columns": null,
       "grid_auto_flow": null,
       "grid_auto_rows": null,
       "grid_column": null,
       "grid_gap": null,
       "grid_row": null,
       "grid_template_areas": null,
       "grid_template_columns": null,
       "grid_template_rows": null,
       "height": null,
       "justify_content": null,
       "justify_items": null,
       "left": null,
       "margin": null,
       "max_height": null,
       "max_width": null,
       "min_height": null,
       "min_width": null,
       "object_fit": null,
       "object_position": null,
       "order": null,
       "overflow": null,
       "padding": null,
       "right": null,
       "top": null,
       "visibility": null,
       "width": null
      }
     },
     "2de7d147a71949c8b1b72f94f674ab3f": {
      "model_module": "@jupyter-widgets/base",
      "model_module_version": "2.0.0",
      "model_name": "LayoutModel",
      "state": {
       "_model_module": "@jupyter-widgets/base",
       "_model_module_version": "2.0.0",
       "_model_name": "LayoutModel",
       "_view_count": null,
       "_view_module": "@jupyter-widgets/base",
       "_view_module_version": "2.0.0",
       "_view_name": "LayoutView",
       "align_content": null,
       "align_items": null,
       "align_self": null,
       "border_bottom": null,
       "border_left": null,
       "border_right": null,
       "border_top": null,
       "bottom": null,
       "display": null,
       "flex": null,
       "flex_flow": null,
       "grid_area": null,
       "grid_auto_columns": null,
       "grid_auto_flow": null,
       "grid_auto_rows": null,
       "grid_column": null,
       "grid_gap": null,
       "grid_row": null,
       "grid_template_areas": null,
       "grid_template_columns": null,
       "grid_template_rows": null,
       "height": null,
       "justify_content": null,
       "justify_items": null,
       "left": null,
       "margin": null,
       "max_height": null,
       "max_width": null,
       "min_height": null,
       "min_width": null,
       "object_fit": null,
       "object_position": null,
       "order": null,
       "overflow": null,
       "padding": null,
       "right": null,
       "top": null,
       "visibility": null,
       "width": null
      }
     },
     "3319f0e81cf641e8af3d3cdde76a7d01": {
      "model_module": "@jupyter-widgets/controls",
      "model_module_version": "2.0.0",
      "model_name": "LabelModel",
      "state": {
       "_dom_classes": [],
       "_model_module": "@jupyter-widgets/controls",
       "_model_module_version": "2.0.0",
       "_model_name": "LabelModel",
       "_view_count": null,
       "_view_module": "@jupyter-widgets/controls",
       "_view_module_version": "2.0.0",
       "_view_name": "LabelView",
       "description": "",
       "description_allow_html": false,
       "layout": "IPY_MODEL_c4dbf02464e14ae88bcae6b48ae58b5a",
       "placeholder": "​",
       "style": "IPY_MODEL_6506a086659e4442a01411c98392924c",
       "tabbable": null,
       "tooltip": null,
       "value": ""
      }
     },
     "336c09f86a9e44b18e38a5793b42ff6d": {
      "model_module": "@jupyter-widgets/controls",
      "model_module_version": "2.0.0",
      "model_name": "HTMLStyleModel",
      "state": {
       "_model_module": "@jupyter-widgets/controls",
       "_model_module_version": "2.0.0",
       "_model_name": "HTMLStyleModel",
       "_view_count": null,
       "_view_module": "@jupyter-widgets/base",
       "_view_module_version": "2.0.0",
       "_view_name": "StyleView",
       "background": null,
       "description_width": "",
       "font_size": null,
       "text_color": null
      }
     },
     "3b7a1ba2341949cc8ede6b5e5e13e0fb": {
      "model_module": "@jupyter-widgets/controls",
      "model_module_version": "2.0.0",
      "model_name": "HTMLModel",
      "state": {
       "_dom_classes": [],
       "_model_module": "@jupyter-widgets/controls",
       "_model_module_version": "2.0.0",
       "_model_name": "HTMLModel",
       "_view_count": null,
       "_view_module": "@jupyter-widgets/controls",
       "_view_module_version": "2.0.0",
       "_view_name": "HTMLView",
       "description": "",
       "description_allow_html": false,
       "layout": "IPY_MODEL_d614324a76944472a7728dc546d40b87",
       "placeholder": "​",
       "style": "IPY_MODEL_336c09f86a9e44b18e38a5793b42ff6d",
       "tabbable": null,
       "tooltip": null,
       "value": "Validation DataLoader 0: 100%"
      }
     },
     "40302c8672e244a2b77ecacbed9040bf": {
      "model_module": "@jupyter-widgets/base",
      "model_module_version": "2.0.0",
      "model_name": "LayoutModel",
      "state": {
       "_model_module": "@jupyter-widgets/base",
       "_model_module_version": "2.0.0",
       "_model_name": "LayoutModel",
       "_view_count": null,
       "_view_module": "@jupyter-widgets/base",
       "_view_module_version": "2.0.0",
       "_view_name": "LayoutView",
       "align_content": null,
       "align_items": null,
       "align_self": null,
       "border_bottom": null,
       "border_left": null,
       "border_right": null,
       "border_top": null,
       "bottom": null,
       "display": "inline-flex",
       "flex": null,
       "flex_flow": "row wrap",
       "grid_area": null,
       "grid_auto_columns": null,
       "grid_auto_flow": null,
       "grid_auto_rows": null,
       "grid_column": null,
       "grid_gap": null,
       "grid_row": null,
       "grid_template_areas": null,
       "grid_template_columns": null,
       "grid_template_rows": null,
       "height": null,
       "justify_content": null,
       "justify_items": null,
       "left": null,
       "margin": null,
       "max_height": null,
       "max_width": null,
       "min_height": null,
       "min_width": null,
       "object_fit": null,
       "object_position": null,
       "order": null,
       "overflow": null,
       "padding": null,
       "right": null,
       "top": null,
       "visibility": null,
       "width": "100%"
      }
     },
     "44233a1e54dd4c95b1027d2739430aaf": {
      "model_module": "@jupyter-widgets/controls",
      "model_module_version": "2.0.0",
      "model_name": "HTMLStyleModel",
      "state": {
       "_model_module": "@jupyter-widgets/controls",
       "_model_module_version": "2.0.0",
       "_model_name": "HTMLStyleModel",
       "_view_count": null,
       "_view_module": "@jupyter-widgets/base",
       "_view_module_version": "2.0.0",
       "_view_name": "StyleView",
       "background": null,
       "description_width": "",
       "font_size": null,
       "text_color": null
      }
     },
     "45ea338a0c774466961c97c4c010b668": {
      "model_module": "@jupyter-widgets/base",
      "model_module_version": "2.0.0",
      "model_name": "LayoutModel",
      "state": {
       "_model_module": "@jupyter-widgets/base",
       "_model_module_version": "2.0.0",
       "_model_name": "LayoutModel",
       "_view_count": null,
       "_view_module": "@jupyter-widgets/base",
       "_view_module_version": "2.0.0",
       "_view_name": "LayoutView",
       "align_content": null,
       "align_items": null,
       "align_self": null,
       "border_bottom": null,
       "border_left": null,
       "border_right": null,
       "border_top": null,
       "bottom": null,
       "display": null,
       "flex": "2",
       "flex_flow": null,
       "grid_area": null,
       "grid_auto_columns": null,
       "grid_auto_flow": null,
       "grid_auto_rows": null,
       "grid_column": null,
       "grid_gap": null,
       "grid_row": null,
       "grid_template_areas": null,
       "grid_template_columns": null,
       "grid_template_rows": null,
       "height": null,
       "justify_content": null,
       "justify_items": null,
       "left": null,
       "margin": null,
       "max_height": null,
       "max_width": null,
       "min_height": null,
       "min_width": null,
       "object_fit": null,
       "object_position": null,
       "order": null,
       "overflow": null,
       "padding": null,
       "right": null,
       "top": null,
       "visibility": null,
       "width": null
      }
     },
     "4753da023eab48f589dd45f3b93471fe": {
      "model_module": "@jupyter-widgets/controls",
      "model_module_version": "2.0.0",
      "model_name": "FloatProgressModel",
      "state": {
       "_dom_classes": [],
       "_model_module": "@jupyter-widgets/controls",
       "_model_module_version": "2.0.0",
       "_model_name": "FloatProgressModel",
       "_view_count": null,
       "_view_module": "@jupyter-widgets/controls",
       "_view_module_version": "2.0.0",
       "_view_name": "ProgressView",
       "bar_style": "danger",
       "description": "",
       "description_allow_html": false,
       "layout": "IPY_MODEL_922f9224e9bd4d0291344394d29f2035",
       "max": 1563.0,
       "min": 0.0,
       "orientation": "horizontal",
       "style": "IPY_MODEL_5c63c2a6899c4e5e93cfa639d67e1cb3",
       "tabbable": null,
       "tooltip": null,
       "value": 296.0
      }
     },
     "482b60117da14346924135464d3c54f0": {
      "model_module": "@jupyter-widgets/controls",
      "model_module_version": "2.0.0",
      "model_name": "FloatProgressModel",
      "state": {
       "_dom_classes": [],
       "_model_module": "@jupyter-widgets/controls",
       "_model_module_version": "2.0.0",
       "_model_name": "FloatProgressModel",
       "_view_count": null,
       "_view_module": "@jupyter-widgets/controls",
       "_view_module_version": "2.0.0",
       "_view_name": "ProgressView",
       "bar_style": "",
       "description": "",
       "description_allow_html": false,
       "layout": "IPY_MODEL_c96a704e2ea64719aae762f97554eb71",
       "max": 1.0,
       "min": 0.0,
       "orientation": "horizontal",
       "style": "IPY_MODEL_fed7fc93d0b4444489df606bf43c140e",
       "tabbable": null,
       "tooltip": null,
       "value": 0.0
      }
     },
     "49e4768025b44b688fb9cf789e80333c": {
      "model_module": "@jupyter-widgets/controls",
      "model_module_version": "2.0.0",
      "model_name": "HTMLModel",
      "state": {
       "_dom_classes": [],
       "_model_module": "@jupyter-widgets/controls",
       "_model_module_version": "2.0.0",
       "_model_name": "HTMLModel",
       "_view_count": null,
       "_view_module": "@jupyter-widgets/controls",
       "_view_module_version": "2.0.0",
       "_view_name": "HTMLView",
       "description": "",
       "description_allow_html": false,
       "layout": "IPY_MODEL_b4ad23fc4dca49afbad6e8e29806eb7b",
       "placeholder": "​",
       "style": "IPY_MODEL_f19762e9d6344d6fb9b96e6bf2c85bc7",
       "tabbable": null,
       "tooltip": null,
       "value": "Validation DataLoader 0: 100%"
      }
     },
     "4d155c3835f04be4a69c5cc54aef20e8": {
      "model_module": "@jupyter-widgets/controls",
      "model_module_version": "2.0.0",
      "model_name": "ProgressStyleModel",
      "state": {
       "_model_module": "@jupyter-widgets/controls",
       "_model_module_version": "2.0.0",
       "_model_name": "ProgressStyleModel",
       "_view_count": null,
       "_view_module": "@jupyter-widgets/base",
       "_view_module_version": "2.0.0",
       "_view_name": "StyleView",
       "bar_color": null,
       "description_width": ""
      }
     },
     "4e1e41f5ad544293ae374c2f53020cb7": {
      "model_module": "@jupyter-widgets/controls",
      "model_module_version": "2.0.0",
      "model_name": "HTMLStyleModel",
      "state": {
       "_model_module": "@jupyter-widgets/controls",
       "_model_module_version": "2.0.0",
       "_model_name": "HTMLStyleModel",
       "_view_count": null,
       "_view_module": "@jupyter-widgets/base",
       "_view_module_version": "2.0.0",
       "_view_name": "StyleView",
       "background": null,
       "description_width": "",
       "font_size": null,
       "text_color": null
      }
     },
     "4fc5b48dde2643f182a8d21bbda3509a": {
      "model_module": "@jupyter-widgets/base",
      "model_module_version": "2.0.0",
      "model_name": "LayoutModel",
      "state": {
       "_model_module": "@jupyter-widgets/base",
       "_model_module_version": "2.0.0",
       "_model_name": "LayoutModel",
       "_view_count": null,
       "_view_module": "@jupyter-widgets/base",
       "_view_module_version": "2.0.0",
       "_view_name": "LayoutView",
       "align_content": null,
       "align_items": null,
       "align_self": null,
       "border_bottom": null,
       "border_left": null,
       "border_right": null,
       "border_top": null,
       "bottom": null,
       "display": "inline-flex",
       "flex": null,
       "flex_flow": "row wrap",
       "grid_area": null,
       "grid_auto_columns": null,
       "grid_auto_flow": null,
       "grid_auto_rows": null,
       "grid_column": null,
       "grid_gap": null,
       "grid_row": null,
       "grid_template_areas": null,
       "grid_template_columns": null,
       "grid_template_rows": null,
       "height": null,
       "justify_content": null,
       "justify_items": null,
       "left": null,
       "margin": null,
       "max_height": null,
       "max_width": null,
       "min_height": null,
       "min_width": null,
       "object_fit": null,
       "object_position": null,
       "order": null,
       "overflow": null,
       "padding": null,
       "right": null,
       "top": null,
       "visibility": "hidden",
       "width": "100%"
      }
     },
     "5c63c2a6899c4e5e93cfa639d67e1cb3": {
      "model_module": "@jupyter-widgets/controls",
      "model_module_version": "2.0.0",
      "model_name": "ProgressStyleModel",
      "state": {
       "_model_module": "@jupyter-widgets/controls",
       "_model_module_version": "2.0.0",
       "_model_name": "ProgressStyleModel",
       "_view_count": null,
       "_view_module": "@jupyter-widgets/base",
       "_view_module_version": "2.0.0",
       "_view_name": "StyleView",
       "bar_color": null,
       "description_width": ""
      }
     },
     "64f0e49a7980492da76f838c33f91894": {
      "model_module": "@jupyter-widgets/controls",
      "model_module_version": "2.0.0",
      "model_name": "HTMLModel",
      "state": {
       "_dom_classes": [],
       "_model_module": "@jupyter-widgets/controls",
       "_model_module_version": "2.0.0",
       "_model_name": "HTMLModel",
       "_view_count": null,
       "_view_module": "@jupyter-widgets/controls",
       "_view_module_version": "2.0.0",
       "_view_name": "HTMLView",
       "description": "",
       "description_allow_html": false,
       "layout": "IPY_MODEL_1defa55e9fe442c38ee21e90c03e01b0",
       "placeholder": "​",
       "style": "IPY_MODEL_d359f417f0034d9c88c2d3433de10e3d",
       "tabbable": null,
       "tooltip": null,
       "value": "Epoch 150:  19%"
      }
     },
     "6506a086659e4442a01411c98392924c": {
      "model_module": "@jupyter-widgets/controls",
      "model_module_version": "2.0.0",
      "model_name": "LabelStyleModel",
      "state": {
       "_model_module": "@jupyter-widgets/controls",
       "_model_module_version": "2.0.0",
       "_model_name": "LabelStyleModel",
       "_view_count": null,
       "_view_module": "@jupyter-widgets/base",
       "_view_module_version": "2.0.0",
       "_view_name": "StyleView",
       "background": null,
       "description_width": "",
       "font_family": null,
       "font_size": null,
       "font_style": null,
       "font_variant": null,
       "font_weight": null,
       "text_color": null,
       "text_decoration": null
      }
     },
     "66f163f9eb5348698c8e3f75d9242508": {
      "model_module": "@jupyter-widgets/controls",
      "model_module_version": "2.0.0",
      "model_name": "ProgressStyleModel",
      "state": {
       "_model_module": "@jupyter-widgets/controls",
       "_model_module_version": "2.0.0",
       "_model_name": "ProgressStyleModel",
       "_view_count": null,
       "_view_module": "@jupyter-widgets/base",
       "_view_module_version": "2.0.0",
       "_view_name": "StyleView",
       "bar_color": null,
       "description_width": ""
      }
     },
     "67175eedb0e248ae87a8481f461a9cf4": {
      "model_module": "@jupyter-widgets/controls",
      "model_module_version": "2.0.0",
      "model_name": "FloatProgressModel",
      "state": {
       "_dom_classes": [],
       "_model_module": "@jupyter-widgets/controls",
       "_model_module_version": "2.0.0",
       "_model_name": "FloatProgressModel",
       "_view_count": null,
       "_view_module": "@jupyter-widgets/controls",
       "_view_module_version": "2.0.0",
       "_view_name": "ProgressView",
       "bar_style": "",
       "description": "",
       "description_allow_html": false,
       "layout": "IPY_MODEL_f520560e78a7456d88990984e5f003a8",
       "max": 313.0,
       "min": 0.0,
       "orientation": "horizontal",
       "style": "IPY_MODEL_66f163f9eb5348698c8e3f75d9242508",
       "tabbable": null,
       "tooltip": null,
       "value": 313.0
      }
     },
     "6d87b6e6364142d69cb38b1ec4cbc233": {
      "model_module": "@jupyter-widgets/controls",
      "model_module_version": "2.0.0",
      "model_name": "HBoxModel",
      "state": {
       "_dom_classes": [],
       "_model_module": "@jupyter-widgets/controls",
       "_model_module_version": "2.0.0",
       "_model_name": "HBoxModel",
       "_view_count": null,
       "_view_module": "@jupyter-widgets/controls",
       "_view_module_version": "2.0.0",
       "_view_name": "HBoxView",
       "box_style": "",
       "children": [
        "IPY_MODEL_3b7a1ba2341949cc8ede6b5e5e13e0fb",
        "IPY_MODEL_b385e1f2a49f40c2bc60c688a1fdf4c7",
        "IPY_MODEL_8351dd5c269045d598b97a971a958cdc"
       ],
       "layout": "IPY_MODEL_6db8767e9ff64dbcb4926bce88f64bf2",
       "tabbable": null,
       "tooltip": null
      }
     },
     "6db8767e9ff64dbcb4926bce88f64bf2": {
      "model_module": "@jupyter-widgets/base",
      "model_module_version": "2.0.0",
      "model_name": "LayoutModel",
      "state": {
       "_model_module": "@jupyter-widgets/base",
       "_model_module_version": "2.0.0",
       "_model_name": "LayoutModel",
       "_view_count": null,
       "_view_module": "@jupyter-widgets/base",
       "_view_module_version": "2.0.0",
       "_view_name": "LayoutView",
       "align_content": null,
       "align_items": null,
       "align_self": null,
       "border_bottom": null,
       "border_left": null,
       "border_right": null,
       "border_top": null,
       "bottom": null,
       "display": "inline-flex",
       "flex": null,
       "flex_flow": "row wrap",
       "grid_area": null,
       "grid_auto_columns": null,
       "grid_auto_flow": null,
       "grid_auto_rows": null,
       "grid_column": null,
       "grid_gap": null,
       "grid_row": null,
       "grid_template_areas": null,
       "grid_template_columns": null,
       "grid_template_rows": null,
       "height": null,
       "justify_content": null,
       "justify_items": null,
       "left": null,
       "margin": null,
       "max_height": null,
       "max_width": null,
       "min_height": null,
       "min_width": null,
       "object_fit": null,
       "object_position": null,
       "order": null,
       "overflow": null,
       "padding": null,
       "right": null,
       "top": null,
       "visibility": "hidden",
       "width": "100%"
      }
     },
     "81bd802a12bf4990bf87f7479f41a5ac": {
      "model_module": "@jupyter-widgets/base",
      "model_module_version": "2.0.0",
      "model_name": "LayoutModel",
      "state": {
       "_model_module": "@jupyter-widgets/base",
       "_model_module_version": "2.0.0",
       "_model_name": "LayoutModel",
       "_view_count": null,
       "_view_module": "@jupyter-widgets/base",
       "_view_module_version": "2.0.0",
       "_view_name": "LayoutView",
       "align_content": null,
       "align_items": null,
       "align_self": null,
       "border_bottom": null,
       "border_left": null,
       "border_right": null,
       "border_top": null,
       "bottom": null,
       "display": null,
       "flex": null,
       "flex_flow": null,
       "grid_area": null,
       "grid_auto_columns": null,
       "grid_auto_flow": null,
       "grid_auto_rows": null,
       "grid_column": null,
       "grid_gap": null,
       "grid_row": null,
       "grid_template_areas": null,
       "grid_template_columns": null,
       "grid_template_rows": null,
       "height": null,
       "justify_content": null,
       "justify_items": null,
       "left": null,
       "margin": null,
       "max_height": null,
       "max_width": null,
       "min_height": null,
       "min_width": null,
       "object_fit": null,
       "object_position": null,
       "order": null,
       "overflow": null,
       "padding": null,
       "right": null,
       "top": null,
       "visibility": null,
       "width": null
      }
     },
     "8351dd5c269045d598b97a971a958cdc": {
      "model_module": "@jupyter-widgets/controls",
      "model_module_version": "2.0.0",
      "model_name": "HTMLModel",
      "state": {
       "_dom_classes": [],
       "_model_module": "@jupyter-widgets/controls",
       "_model_module_version": "2.0.0",
       "_model_name": "HTMLModel",
       "_view_count": null,
       "_view_module": "@jupyter-widgets/controls",
       "_view_module_version": "2.0.0",
       "_view_name": "HTMLView",
       "description": "",
       "description_allow_html": false,
       "layout": "IPY_MODEL_add629b946464d08a175d6ce3830d533",
       "placeholder": "​",
       "style": "IPY_MODEL_4e1e41f5ad544293ae374c2f53020cb7",
       "tabbable": null,
       "tooltip": null,
       "value": " 313/313 [01:12&lt;00:00,  4.32it/s]"
      }
     },
     "83ee5bc87fc4439da8122dc3bc7aec7a": {
      "model_module": "@jupyter-widgets/base",
      "model_module_version": "2.0.0",
      "model_name": "LayoutModel",
      "state": {
       "_model_module": "@jupyter-widgets/base",
       "_model_module_version": "2.0.0",
       "_model_name": "LayoutModel",
       "_view_count": null,
       "_view_module": "@jupyter-widgets/base",
       "_view_module_version": "2.0.0",
       "_view_name": "LayoutView",
       "align_content": null,
       "align_items": null,
       "align_self": null,
       "border_bottom": null,
       "border_left": null,
       "border_right": null,
       "border_top": null,
       "bottom": null,
       "display": null,
       "flex": "2",
       "flex_flow": null,
       "grid_area": null,
       "grid_auto_columns": null,
       "grid_auto_flow": null,
       "grid_auto_rows": null,
       "grid_column": null,
       "grid_gap": null,
       "grid_row": null,
       "grid_template_areas": null,
       "grid_template_columns": null,
       "grid_template_rows": null,
       "height": null,
       "justify_content": null,
       "justify_items": null,
       "left": null,
       "margin": null,
       "max_height": null,
       "max_width": null,
       "min_height": null,
       "min_width": null,
       "object_fit": null,
       "object_position": null,
       "order": null,
       "overflow": null,
       "padding": null,
       "right": null,
       "top": null,
       "visibility": null,
       "width": null
      }
     },
     "8d529e9ce5ee41d6a4766f6a7d7da2d3": {
      "model_module": "@jupyter-widgets/base",
      "model_module_version": "2.0.0",
      "model_name": "LayoutModel",
      "state": {
       "_model_module": "@jupyter-widgets/base",
       "_model_module_version": "2.0.0",
       "_model_name": "LayoutModel",
       "_view_count": null,
       "_view_module": "@jupyter-widgets/base",
       "_view_module_version": "2.0.0",
       "_view_name": "LayoutView",
       "align_content": null,
       "align_items": null,
       "align_self": null,
       "border_bottom": null,
       "border_left": null,
       "border_right": null,
       "border_top": null,
       "bottom": null,
       "display": null,
       "flex": null,
       "flex_flow": null,
       "grid_area": null,
       "grid_auto_columns": null,
       "grid_auto_flow": null,
       "grid_auto_rows": null,
       "grid_column": null,
       "grid_gap": null,
       "grid_row": null,
       "grid_template_areas": null,
       "grid_template_columns": null,
       "grid_template_rows": null,
       "height": null,
       "justify_content": null,
       "justify_items": null,
       "left": null,
       "margin": null,
       "max_height": null,
       "max_width": null,
       "min_height": null,
       "min_width": null,
       "object_fit": null,
       "object_position": null,
       "order": null,
       "overflow": null,
       "padding": null,
       "right": null,
       "top": null,
       "visibility": null,
       "width": null
      }
     },
     "8f15678c1b8d43cba2c8f804cef37f54": {
      "model_module": "@jupyter-widgets/controls",
      "model_module_version": "2.0.0",
      "model_name": "FloatProgressModel",
      "state": {
       "_dom_classes": [],
       "_model_module": "@jupyter-widgets/controls",
       "_model_module_version": "2.0.0",
       "_model_name": "FloatProgressModel",
       "_view_count": null,
       "_view_module": "@jupyter-widgets/controls",
       "_view_module_version": "2.0.0",
       "_view_name": "ProgressView",
       "bar_style": "",
       "description": "",
       "description_allow_html": false,
       "layout": "IPY_MODEL_45ea338a0c774466961c97c4c010b668",
       "max": 313.0,
       "min": 0.0,
       "orientation": "horizontal",
       "style": "IPY_MODEL_4d155c3835f04be4a69c5cc54aef20e8",
       "tabbable": null,
       "tooltip": null,
       "value": 313.0
      }
     },
     "909cf11612774a07a9e73e05b29dbf34": {
      "model_module": "@jupyter-widgets/base",
      "model_module_version": "2.0.0",
      "model_name": "LayoutModel",
      "state": {
       "_model_module": "@jupyter-widgets/base",
       "_model_module_version": "2.0.0",
       "_model_name": "LayoutModel",
       "_view_count": null,
       "_view_module": "@jupyter-widgets/base",
       "_view_module_version": "2.0.0",
       "_view_name": "LayoutView",
       "align_content": null,
       "align_items": null,
       "align_self": null,
       "border_bottom": null,
       "border_left": null,
       "border_right": null,
       "border_top": null,
       "bottom": null,
       "display": null,
       "flex": null,
       "flex_flow": null,
       "grid_area": null,
       "grid_auto_columns": null,
       "grid_auto_flow": null,
       "grid_auto_rows": null,
       "grid_column": null,
       "grid_gap": null,
       "grid_row": null,
       "grid_template_areas": null,
       "grid_template_columns": null,
       "grid_template_rows": null,
       "height": null,
       "justify_content": null,
       "justify_items": null,
       "left": null,
       "margin": null,
       "max_height": null,
       "max_width": null,
       "min_height": null,
       "min_width": null,
       "object_fit": null,
       "object_position": null,
       "order": null,
       "overflow": null,
       "padding": null,
       "right": null,
       "top": null,
       "visibility": null,
       "width": null
      }
     },
     "922f9224e9bd4d0291344394d29f2035": {
      "model_module": "@jupyter-widgets/base",
      "model_module_version": "2.0.0",
      "model_name": "LayoutModel",
      "state": {
       "_model_module": "@jupyter-widgets/base",
       "_model_module_version": "2.0.0",
       "_model_name": "LayoutModel",
       "_view_count": null,
       "_view_module": "@jupyter-widgets/base",
       "_view_module_version": "2.0.0",
       "_view_name": "LayoutView",
       "align_content": null,
       "align_items": null,
       "align_self": null,
       "border_bottom": null,
       "border_left": null,
       "border_right": null,
       "border_top": null,
       "bottom": null,
       "display": null,
       "flex": "2",
       "flex_flow": null,
       "grid_area": null,
       "grid_auto_columns": null,
       "grid_auto_flow": null,
       "grid_auto_rows": null,
       "grid_column": null,
       "grid_gap": null,
       "grid_row": null,
       "grid_template_areas": null,
       "grid_template_columns": null,
       "grid_template_rows": null,
       "height": null,
       "justify_content": null,
       "justify_items": null,
       "left": null,
       "margin": null,
       "max_height": null,
       "max_width": null,
       "min_height": null,
       "min_width": null,
       "object_fit": null,
       "object_position": null,
       "order": null,
       "overflow": null,
       "padding": null,
       "right": null,
       "top": null,
       "visibility": null,
       "width": null
      }
     },
     "92cc665b363746858ba5d435a7c314d8": {
      "model_module": "@jupyter-widgets/base",
      "model_module_version": "2.0.0",
      "model_name": "LayoutModel",
      "state": {
       "_model_module": "@jupyter-widgets/base",
       "_model_module_version": "2.0.0",
       "_model_name": "LayoutModel",
       "_view_count": null,
       "_view_module": "@jupyter-widgets/base",
       "_view_module_version": "2.0.0",
       "_view_name": "LayoutView",
       "align_content": null,
       "align_items": null,
       "align_self": null,
       "border_bottom": null,
       "border_left": null,
       "border_right": null,
       "border_top": null,
       "bottom": null,
       "display": "inline-flex",
       "flex": null,
       "flex_flow": "row wrap",
       "grid_area": null,
       "grid_auto_columns": null,
       "grid_auto_flow": null,
       "grid_auto_rows": null,
       "grid_column": null,
       "grid_gap": null,
       "grid_row": null,
       "grid_template_areas": null,
       "grid_template_columns": null,
       "grid_template_rows": null,
       "height": null,
       "justify_content": null,
       "justify_items": null,
       "left": null,
       "margin": null,
       "max_height": null,
       "max_width": null,
       "min_height": null,
       "min_width": null,
       "object_fit": null,
       "object_position": null,
       "order": null,
       "overflow": null,
       "padding": null,
       "right": null,
       "top": null,
       "visibility": "hidden",
       "width": "100%"
      }
     },
     "99d747a902664368af82c5c99c34e8bd": {
      "model_module": "@jupyter-widgets/controls",
      "model_module_version": "2.0.0",
      "model_name": "ProgressStyleModel",
      "state": {
       "_model_module": "@jupyter-widgets/controls",
       "_model_module_version": "2.0.0",
       "_model_name": "ProgressStyleModel",
       "_view_count": null,
       "_view_module": "@jupyter-widgets/base",
       "_view_module_version": "2.0.0",
       "_view_name": "StyleView",
       "bar_color": null,
       "description_width": ""
      }
     },
     "9a8b4d196ff14ba09e8bafa5320b7b9e": {
      "model_module": "@jupyter-widgets/controls",
      "model_module_version": "2.0.0",
      "model_name": "HBoxModel",
      "state": {
       "_dom_classes": [],
       "_model_module": "@jupyter-widgets/controls",
       "_model_module_version": "2.0.0",
       "_model_name": "HBoxModel",
       "_view_count": null,
       "_view_module": "@jupyter-widgets/controls",
       "_view_module_version": "2.0.0",
       "_view_name": "HBoxView",
       "box_style": "",
       "children": [
        "IPY_MODEL_64f0e49a7980492da76f838c33f91894",
        "IPY_MODEL_4753da023eab48f589dd45f3b93471fe",
        "IPY_MODEL_2aaf4820118d4f159d0adabec2faaa11"
       ],
       "layout": "IPY_MODEL_40302c8672e244a2b77ecacbed9040bf",
       "tabbable": null,
       "tooltip": null
      }
     },
     "9b6d30edc1384f8e929c86ed27aa6f6e": {
      "model_module": "@jupyter-widgets/controls",
      "model_module_version": "2.0.0",
      "model_name": "HBoxModel",
      "state": {
       "_dom_classes": [],
       "_model_module": "@jupyter-widgets/controls",
       "_model_module_version": "2.0.0",
       "_model_name": "HBoxModel",
       "_view_count": null,
       "_view_module": "@jupyter-widgets/controls",
       "_view_module_version": "2.0.0",
       "_view_name": "HBoxView",
       "box_style": "",
       "children": [
        "IPY_MODEL_1f1d356dad6a46dca34b137b2b1cf1af",
        "IPY_MODEL_8f15678c1b8d43cba2c8f804cef37f54",
        "IPY_MODEL_033f3eeec10f4c2f817557aeb9ed25d7"
       ],
       "layout": "IPY_MODEL_92cc665b363746858ba5d435a7c314d8",
       "tabbable": null,
       "tooltip": null
      }
     },
     "aa89340c7d214f4ab22441ac780e5b91": {
      "model_module": "@jupyter-widgets/controls",
      "model_module_version": "2.0.0",
      "model_name": "HTMLModel",
      "state": {
       "_dom_classes": [],
       "_model_module": "@jupyter-widgets/controls",
       "_model_module_version": "2.0.0",
       "_model_name": "HTMLModel",
       "_view_count": null,
       "_view_module": "@jupyter-widgets/controls",
       "_view_module_version": "2.0.0",
       "_view_name": "HTMLView",
       "description": "",
       "description_allow_html": false,
       "layout": "IPY_MODEL_909cf11612774a07a9e73e05b29dbf34",
       "placeholder": "​",
       "style": "IPY_MODEL_b06398eb17f34299b11df167ce3835c9",
       "tabbable": null,
       "tooltip": null,
       "value": " 313/313 [01:12&lt;00:00,  4.30it/s]"
      }
     },
     "acbccc1d81f148f3ac40316a3c5f811f": {
      "model_module": "@jupyter-widgets/controls",
      "model_module_version": "2.0.0",
      "model_name": "ProgressStyleModel",
      "state": {
       "_model_module": "@jupyter-widgets/controls",
       "_model_module_version": "2.0.0",
       "_model_name": "ProgressStyleModel",
       "_view_count": null,
       "_view_module": "@jupyter-widgets/base",
       "_view_module_version": "2.0.0",
       "_view_name": "StyleView",
       "bar_color": null,
       "description_width": ""
      }
     },
     "add629b946464d08a175d6ce3830d533": {
      "model_module": "@jupyter-widgets/base",
      "model_module_version": "2.0.0",
      "model_name": "LayoutModel",
      "state": {
       "_model_module": "@jupyter-widgets/base",
       "_model_module_version": "2.0.0",
       "_model_name": "LayoutModel",
       "_view_count": null,
       "_view_module": "@jupyter-widgets/base",
       "_view_module_version": "2.0.0",
       "_view_name": "LayoutView",
       "align_content": null,
       "align_items": null,
       "align_self": null,
       "border_bottom": null,
       "border_left": null,
       "border_right": null,
       "border_top": null,
       "bottom": null,
       "display": null,
       "flex": null,
       "flex_flow": null,
       "grid_area": null,
       "grid_auto_columns": null,
       "grid_auto_flow": null,
       "grid_auto_rows": null,
       "grid_column": null,
       "grid_gap": null,
       "grid_row": null,
       "grid_template_areas": null,
       "grid_template_columns": null,
       "grid_template_rows": null,
       "height": null,
       "justify_content": null,
       "justify_items": null,
       "left": null,
       "margin": null,
       "max_height": null,
       "max_width": null,
       "min_height": null,
       "min_width": null,
       "object_fit": null,
       "object_position": null,
       "order": null,
       "overflow": null,
       "padding": null,
       "right": null,
       "top": null,
       "visibility": null,
       "width": null
      }
     },
     "ade379510d154c869ae04288eec0ea07": {
      "model_module": "@jupyter-widgets/controls",
      "model_module_version": "2.0.0",
      "model_name": "HTMLModel",
      "state": {
       "_dom_classes": [],
       "_model_module": "@jupyter-widgets/controls",
       "_model_module_version": "2.0.0",
       "_model_name": "HTMLModel",
       "_view_count": null,
       "_view_module": "@jupyter-widgets/controls",
       "_view_module_version": "2.0.0",
       "_view_name": "HTMLView",
       "description": "",
       "description_allow_html": false,
       "layout": "IPY_MODEL_b327ca45e0184f379872c3ea8cef4e21",
       "placeholder": "​",
       "style": "IPY_MODEL_44233a1e54dd4c95b1027d2739430aaf",
       "tabbable": null,
       "tooltip": null,
       "value": " 313/313 [01:12&lt;00:00,  4.30it/s]"
      }
     },
     "b06398eb17f34299b11df167ce3835c9": {
      "model_module": "@jupyter-widgets/controls",
      "model_module_version": "2.0.0",
      "model_name": "HTMLStyleModel",
      "state": {
       "_model_module": "@jupyter-widgets/controls",
       "_model_module_version": "2.0.0",
       "_model_name": "HTMLStyleModel",
       "_view_count": null,
       "_view_module": "@jupyter-widgets/base",
       "_view_module_version": "2.0.0",
       "_view_name": "StyleView",
       "background": null,
       "description_width": "",
       "font_size": null,
       "text_color": null
      }
     },
     "b327ca45e0184f379872c3ea8cef4e21": {
      "model_module": "@jupyter-widgets/base",
      "model_module_version": "2.0.0",
      "model_name": "LayoutModel",
      "state": {
       "_model_module": "@jupyter-widgets/base",
       "_model_module_version": "2.0.0",
       "_model_name": "LayoutModel",
       "_view_count": null,
       "_view_module": "@jupyter-widgets/base",
       "_view_module_version": "2.0.0",
       "_view_name": "LayoutView",
       "align_content": null,
       "align_items": null,
       "align_self": null,
       "border_bottom": null,
       "border_left": null,
       "border_right": null,
       "border_top": null,
       "bottom": null,
       "display": null,
       "flex": null,
       "flex_flow": null,
       "grid_area": null,
       "grid_auto_columns": null,
       "grid_auto_flow": null,
       "grid_auto_rows": null,
       "grid_column": null,
       "grid_gap": null,
       "grid_row": null,
       "grid_template_areas": null,
       "grid_template_columns": null,
       "grid_template_rows": null,
       "height": null,
       "justify_content": null,
       "justify_items": null,
       "left": null,
       "margin": null,
       "max_height": null,
       "max_width": null,
       "min_height": null,
       "min_width": null,
       "object_fit": null,
       "object_position": null,
       "order": null,
       "overflow": null,
       "padding": null,
       "right": null,
       "top": null,
       "visibility": null,
       "width": null
      }
     },
     "b385e1f2a49f40c2bc60c688a1fdf4c7": {
      "model_module": "@jupyter-widgets/controls",
      "model_module_version": "2.0.0",
      "model_name": "FloatProgressModel",
      "state": {
       "_dom_classes": [],
       "_model_module": "@jupyter-widgets/controls",
       "_model_module_version": "2.0.0",
       "_model_name": "FloatProgressModel",
       "_view_count": null,
       "_view_module": "@jupyter-widgets/controls",
       "_view_module_version": "2.0.0",
       "_view_name": "ProgressView",
       "bar_style": "",
       "description": "",
       "description_allow_html": false,
       "layout": "IPY_MODEL_83ee5bc87fc4439da8122dc3bc7aec7a",
       "max": 313.0,
       "min": 0.0,
       "orientation": "horizontal",
       "style": "IPY_MODEL_acbccc1d81f148f3ac40316a3c5f811f",
       "tabbable": null,
       "tooltip": null,
       "value": 313.0
      }
     },
     "b4ad23fc4dca49afbad6e8e29806eb7b": {
      "model_module": "@jupyter-widgets/base",
      "model_module_version": "2.0.0",
      "model_name": "LayoutModel",
      "state": {
       "_model_module": "@jupyter-widgets/base",
       "_model_module_version": "2.0.0",
       "_model_name": "LayoutModel",
       "_view_count": null,
       "_view_module": "@jupyter-widgets/base",
       "_view_module_version": "2.0.0",
       "_view_name": "LayoutView",
       "align_content": null,
       "align_items": null,
       "align_self": null,
       "border_bottom": null,
       "border_left": null,
       "border_right": null,
       "border_top": null,
       "bottom": null,
       "display": null,
       "flex": null,
       "flex_flow": null,
       "grid_area": null,
       "grid_auto_columns": null,
       "grid_auto_flow": null,
       "grid_auto_rows": null,
       "grid_column": null,
       "grid_gap": null,
       "grid_row": null,
       "grid_template_areas": null,
       "grid_template_columns": null,
       "grid_template_rows": null,
       "height": null,
       "justify_content": null,
       "justify_items": null,
       "left": null,
       "margin": null,
       "max_height": null,
       "max_width": null,
       "min_height": null,
       "min_width": null,
       "object_fit": null,
       "object_position": null,
       "order": null,
       "overflow": null,
       "padding": null,
       "right": null,
       "top": null,
       "visibility": null,
       "width": null
      }
     },
     "b9e8d9faacd74f58bbbab090b0486372": {
      "model_module": "@jupyter-widgets/base",
      "model_module_version": "2.0.0",
      "model_name": "LayoutModel",
      "state": {
       "_model_module": "@jupyter-widgets/base",
       "_model_module_version": "2.0.0",
       "_model_name": "LayoutModel",
       "_view_count": null,
       "_view_module": "@jupyter-widgets/base",
       "_view_module_version": "2.0.0",
       "_view_name": "LayoutView",
       "align_content": null,
       "align_items": null,
       "align_self": null,
       "border_bottom": null,
       "border_left": null,
       "border_right": null,
       "border_top": null,
       "bottom": null,
       "display": null,
       "flex": null,
       "flex_flow": null,
       "grid_area": null,
       "grid_auto_columns": null,
       "grid_auto_flow": null,
       "grid_auto_rows": null,
       "grid_column": null,
       "grid_gap": null,
       "grid_row": null,
       "grid_template_areas": null,
       "grid_template_columns": null,
       "grid_template_rows": null,
       "height": null,
       "justify_content": null,
       "justify_items": null,
       "left": null,
       "margin": null,
       "max_height": null,
       "max_width": null,
       "min_height": null,
       "min_width": null,
       "object_fit": null,
       "object_position": null,
       "order": null,
       "overflow": null,
       "padding": null,
       "right": null,
       "top": null,
       "visibility": null,
       "width": null
      }
     },
     "c033984cf37d476aa3ce10ce319424c1": {
      "model_module": "@jupyter-widgets/controls",
      "model_module_version": "2.0.0",
      "model_name": "HTMLStyleModel",
      "state": {
       "_model_module": "@jupyter-widgets/controls",
       "_model_module_version": "2.0.0",
       "_model_name": "HTMLStyleModel",
       "_view_count": null,
       "_view_module": "@jupyter-widgets/base",
       "_view_module_version": "2.0.0",
       "_view_name": "StyleView",
       "background": null,
       "description_width": "",
       "font_size": null,
       "text_color": null
      }
     },
     "c4dbf02464e14ae88bcae6b48ae58b5a": {
      "model_module": "@jupyter-widgets/base",
      "model_module_version": "2.0.0",
      "model_name": "LayoutModel",
      "state": {
       "_model_module": "@jupyter-widgets/base",
       "_model_module_version": "2.0.0",
       "_model_name": "LayoutModel",
       "_view_count": null,
       "_view_module": "@jupyter-widgets/base",
       "_view_module_version": "2.0.0",
       "_view_name": "LayoutView",
       "align_content": null,
       "align_items": null,
       "align_self": null,
       "border_bottom": null,
       "border_left": null,
       "border_right": null,
       "border_top": null,
       "bottom": null,
       "display": null,
       "flex": null,
       "flex_flow": null,
       "grid_area": null,
       "grid_auto_columns": null,
       "grid_auto_flow": null,
       "grid_auto_rows": null,
       "grid_column": null,
       "grid_gap": null,
       "grid_row": null,
       "grid_template_areas": null,
       "grid_template_columns": null,
       "grid_template_rows": null,
       "height": null,
       "justify_content": null,
       "justify_items": null,
       "left": null,
       "margin": null,
       "max_height": null,
       "max_width": null,
       "min_height": null,
       "min_width": null,
       "object_fit": null,
       "object_position": null,
       "order": null,
       "overflow": null,
       "padding": null,
       "right": null,
       "top": null,
       "visibility": null,
       "width": null
      }
     },
     "c96a704e2ea64719aae762f97554eb71": {
      "model_module": "@jupyter-widgets/base",
      "model_module_version": "2.0.0",
      "model_name": "LayoutModel",
      "state": {
       "_model_module": "@jupyter-widgets/base",
       "_model_module_version": "2.0.0",
       "_model_name": "LayoutModel",
       "_view_count": null,
       "_view_module": "@jupyter-widgets/base",
       "_view_module_version": "2.0.0",
       "_view_name": "LayoutView",
       "align_content": null,
       "align_items": null,
       "align_self": null,
       "border_bottom": null,
       "border_left": null,
       "border_right": null,
       "border_top": null,
       "bottom": null,
       "display": null,
       "flex": null,
       "flex_flow": null,
       "grid_area": null,
       "grid_auto_columns": null,
       "grid_auto_flow": null,
       "grid_auto_rows": null,
       "grid_column": null,
       "grid_gap": null,
       "grid_row": null,
       "grid_template_areas": null,
       "grid_template_columns": null,
       "grid_template_rows": null,
       "height": null,
       "justify_content": null,
       "justify_items": null,
       "left": null,
       "margin": null,
       "max_height": null,
       "max_width": null,
       "min_height": null,
       "min_width": null,
       "object_fit": null,
       "object_position": null,
       "order": null,
       "overflow": null,
       "padding": null,
       "right": null,
       "top": null,
       "visibility": null,
       "width": null
      }
     },
     "d111a21779d04c9ea6b7d381303b93f5": {
      "model_module": "@jupyter-widgets/controls",
      "model_module_version": "2.0.0",
      "model_name": "LabelStyleModel",
      "state": {
       "_model_module": "@jupyter-widgets/controls",
       "_model_module_version": "2.0.0",
       "_model_name": "LabelStyleModel",
       "_view_count": null,
       "_view_module": "@jupyter-widgets/base",
       "_view_module_version": "2.0.0",
       "_view_name": "StyleView",
       "background": null,
       "description_width": "",
       "font_family": null,
       "font_size": null,
       "font_style": null,
       "font_variant": null,
       "font_weight": null,
       "text_color": null,
       "text_decoration": null
      }
     },
     "d359f417f0034d9c88c2d3433de10e3d": {
      "model_module": "@jupyter-widgets/controls",
      "model_module_version": "2.0.0",
      "model_name": "HTMLStyleModel",
      "state": {
       "_model_module": "@jupyter-widgets/controls",
       "_model_module_version": "2.0.0",
       "_model_name": "HTMLStyleModel",
       "_view_count": null,
       "_view_module": "@jupyter-widgets/base",
       "_view_module_version": "2.0.0",
       "_view_name": "StyleView",
       "background": null,
       "description_width": "",
       "font_size": null,
       "text_color": null
      }
     },
     "d3943d8dd98b4fc1907f93b24ea52546": {
      "model_module": "@jupyter-widgets/controls",
      "model_module_version": "2.0.0",
      "model_name": "VBoxModel",
      "state": {
       "_dom_classes": [],
       "_model_module": "@jupyter-widgets/controls",
       "_model_module_version": "2.0.0",
       "_model_name": "VBoxModel",
       "_view_count": null,
       "_view_module": "@jupyter-widgets/controls",
       "_view_module_version": "2.0.0",
       "_view_name": "VBoxView",
       "box_style": "",
       "children": [
        "IPY_MODEL_3319f0e81cf641e8af3d3cdde76a7d01",
        "IPY_MODEL_482b60117da14346924135464d3c54f0"
       ],
       "layout": "IPY_MODEL_81bd802a12bf4990bf87f7479f41a5ac",
       "tabbable": null,
       "tooltip": null
      }
     },
     "d614324a76944472a7728dc546d40b87": {
      "model_module": "@jupyter-widgets/base",
      "model_module_version": "2.0.0",
      "model_name": "LayoutModel",
      "state": {
       "_model_module": "@jupyter-widgets/base",
       "_model_module_version": "2.0.0",
       "_model_name": "LayoutModel",
       "_view_count": null,
       "_view_module": "@jupyter-widgets/base",
       "_view_module_version": "2.0.0",
       "_view_name": "LayoutView",
       "align_content": null,
       "align_items": null,
       "align_self": null,
       "border_bottom": null,
       "border_left": null,
       "border_right": null,
       "border_top": null,
       "bottom": null,
       "display": null,
       "flex": null,
       "flex_flow": null,
       "grid_area": null,
       "grid_auto_columns": null,
       "grid_auto_flow": null,
       "grid_auto_rows": null,
       "grid_column": null,
       "grid_gap": null,
       "grid_row": null,
       "grid_template_areas": null,
       "grid_template_columns": null,
       "grid_template_rows": null,
       "height": null,
       "justify_content": null,
       "justify_items": null,
       "left": null,
       "margin": null,
       "max_height": null,
       "max_width": null,
       "min_height": null,
       "min_width": null,
       "object_fit": null,
       "object_position": null,
       "order": null,
       "overflow": null,
       "padding": null,
       "right": null,
       "top": null,
       "visibility": null,
       "width": null
      }
     },
     "d695a286e4fb4fbc8ff3a03cc9f49774": {
      "model_module": "@jupyter-widgets/base",
      "model_module_version": "2.0.0",
      "model_name": "LayoutModel",
      "state": {
       "_model_module": "@jupyter-widgets/base",
       "_model_module_version": "2.0.0",
       "_model_name": "LayoutModel",
       "_view_count": null,
       "_view_module": "@jupyter-widgets/base",
       "_view_module_version": "2.0.0",
       "_view_name": "LayoutView",
       "align_content": null,
       "align_items": null,
       "align_self": null,
       "border_bottom": null,
       "border_left": null,
       "border_right": null,
       "border_top": null,
       "bottom": null,
       "display": null,
       "flex": null,
       "flex_flow": null,
       "grid_area": null,
       "grid_auto_columns": null,
       "grid_auto_flow": null,
       "grid_auto_rows": null,
       "grid_column": null,
       "grid_gap": null,
       "grid_row": null,
       "grid_template_areas": null,
       "grid_template_columns": null,
       "grid_template_rows": null,
       "height": null,
       "justify_content": null,
       "justify_items": null,
       "left": null,
       "margin": null,
       "max_height": null,
       "max_width": null,
       "min_height": null,
       "min_width": null,
       "object_fit": null,
       "object_position": null,
       "order": null,
       "overflow": null,
       "padding": null,
       "right": null,
       "top": null,
       "visibility": null,
       "width": null
      }
     },
     "d97c18eaf36b4eee8c594547f1b5251f": {
      "model_module": "@jupyter-widgets/controls",
      "model_module_version": "2.0.0",
      "model_name": "HBoxModel",
      "state": {
       "_dom_classes": [],
       "_model_module": "@jupyter-widgets/controls",
       "_model_module_version": "2.0.0",
       "_model_name": "HBoxModel",
       "_view_count": null,
       "_view_module": "@jupyter-widgets/controls",
       "_view_module_version": "2.0.0",
       "_view_name": "HBoxView",
       "box_style": "",
       "children": [
        "IPY_MODEL_25feacac84e441e491125e6d58b9c42b",
        "IPY_MODEL_67175eedb0e248ae87a8481f461a9cf4",
        "IPY_MODEL_aa89340c7d214f4ab22441ac780e5b91"
       ],
       "layout": "IPY_MODEL_1b9bff27dbdf4c1eaed4764afd99d165",
       "tabbable": null,
       "tooltip": null
      }
     },
     "df7aa0d35389454daae3ccda3d2b6aec": {
      "model_module": "@jupyter-widgets/controls",
      "model_module_version": "2.0.0",
      "model_name": "ProgressStyleModel",
      "state": {
       "_model_module": "@jupyter-widgets/controls",
       "_model_module_version": "2.0.0",
       "_model_name": "ProgressStyleModel",
       "_view_count": null,
       "_view_module": "@jupyter-widgets/base",
       "_view_module_version": "2.0.0",
       "_view_name": "StyleView",
       "bar_color": null,
       "description_width": ""
      }
     },
     "eb4d99b7e9b54df4ac2b653bcbd5b88b": {
      "model_module": "@jupyter-widgets/controls",
      "model_module_version": "2.0.0",
      "model_name": "FloatProgressModel",
      "state": {
       "_dom_classes": [],
       "_model_module": "@jupyter-widgets/controls",
       "_model_module_version": "2.0.0",
       "_model_name": "FloatProgressModel",
       "_view_count": null,
       "_view_module": "@jupyter-widgets/controls",
       "_view_module_version": "2.0.0",
       "_view_name": "ProgressView",
       "bar_style": "",
       "description": "",
       "description_allow_html": false,
       "layout": "IPY_MODEL_09ba6944cb5241c6af9ad3071f2fad60",
       "max": 313.0,
       "min": 0.0,
       "orientation": "horizontal",
       "style": "IPY_MODEL_df7aa0d35389454daae3ccda3d2b6aec",
       "tabbable": null,
       "tooltip": null,
       "value": 313.0
      }
     },
     "f19762e9d6344d6fb9b96e6bf2c85bc7": {
      "model_module": "@jupyter-widgets/controls",
      "model_module_version": "2.0.0",
      "model_name": "HTMLStyleModel",
      "state": {
       "_model_module": "@jupyter-widgets/controls",
       "_model_module_version": "2.0.0",
       "_model_name": "HTMLStyleModel",
       "_view_count": null,
       "_view_module": "@jupyter-widgets/base",
       "_view_module_version": "2.0.0",
       "_view_name": "StyleView",
       "background": null,
       "description_width": "",
       "font_size": null,
       "text_color": null
      }
     },
     "f520560e78a7456d88990984e5f003a8": {
      "model_module": "@jupyter-widgets/base",
      "model_module_version": "2.0.0",
      "model_name": "LayoutModel",
      "state": {
       "_model_module": "@jupyter-widgets/base",
       "_model_module_version": "2.0.0",
       "_model_name": "LayoutModel",
       "_view_count": null,
       "_view_module": "@jupyter-widgets/base",
       "_view_module_version": "2.0.0",
       "_view_name": "LayoutView",
       "align_content": null,
       "align_items": null,
       "align_self": null,
       "border_bottom": null,
       "border_left": null,
       "border_right": null,
       "border_top": null,
       "bottom": null,
       "display": null,
       "flex": "2",
       "flex_flow": null,
       "grid_area": null,
       "grid_auto_columns": null,
       "grid_auto_flow": null,
       "grid_auto_rows": null,
       "grid_column": null,
       "grid_gap": null,
       "grid_row": null,
       "grid_template_areas": null,
       "grid_template_columns": null,
       "grid_template_rows": null,
       "height": null,
       "justify_content": null,
       "justify_items": null,
       "left": null,
       "margin": null,
       "max_height": null,
       "max_width": null,
       "min_height": null,
       "min_width": null,
       "object_fit": null,
       "object_position": null,
       "order": null,
       "overflow": null,
       "padding": null,
       "right": null,
       "top": null,
       "visibility": null,
       "width": null
      }
     },
     "f56658b6d3cd4da487832e300768dfc4": {
      "model_module": "@jupyter-widgets/controls",
      "model_module_version": "2.0.0",
      "model_name": "HTMLStyleModel",
      "state": {
       "_model_module": "@jupyter-widgets/controls",
       "_model_module_version": "2.0.0",
       "_model_name": "HTMLStyleModel",
       "_view_count": null,
       "_view_module": "@jupyter-widgets/base",
       "_view_module_version": "2.0.0",
       "_view_name": "StyleView",
       "background": null,
       "description_width": "",
       "font_size": null,
       "text_color": null
      }
     },
     "f7d6f363b6104fc5b15144d4fb0bf390": {
      "model_module": "@jupyter-widgets/base",
      "model_module_version": "2.0.0",
      "model_name": "LayoutModel",
      "state": {
       "_model_module": "@jupyter-widgets/base",
       "_model_module_version": "2.0.0",
       "_model_name": "LayoutModel",
       "_view_count": null,
       "_view_module": "@jupyter-widgets/base",
       "_view_module_version": "2.0.0",
       "_view_name": "LayoutView",
       "align_content": null,
       "align_items": null,
       "align_self": null,
       "border_bottom": null,
       "border_left": null,
       "border_right": null,
       "border_top": null,
       "bottom": null,
       "display": null,
       "flex": null,
       "flex_flow": null,
       "grid_area": null,
       "grid_auto_columns": null,
       "grid_auto_flow": null,
       "grid_auto_rows": null,
       "grid_column": null,
       "grid_gap": null,
       "grid_row": null,
       "grid_template_areas": null,
       "grid_template_columns": null,
       "grid_template_rows": null,
       "height": null,
       "justify_content": null,
       "justify_items": null,
       "left": null,
       "margin": null,
       "max_height": null,
       "max_width": null,
       "min_height": null,
       "min_width": null,
       "object_fit": null,
       "object_position": null,
       "order": null,
       "overflow": null,
       "padding": null,
       "right": null,
       "top": null,
       "visibility": null,
       "width": null
      }
     },
     "fed7fc93d0b4444489df606bf43c140e": {
      "model_module": "@jupyter-widgets/controls",
      "model_module_version": "2.0.0",
      "model_name": "ProgressStyleModel",
      "state": {
       "_model_module": "@jupyter-widgets/controls",
       "_model_module_version": "2.0.0",
       "_model_name": "ProgressStyleModel",
       "_view_count": null,
       "_view_module": "@jupyter-widgets/base",
       "_view_module_version": "2.0.0",
       "_view_name": "StyleView",
       "bar_color": null,
       "description_width": ""
      }
     }
    },
    "version_major": 2,
    "version_minor": 0
   }
  }
 },
 "nbformat": 4,
 "nbformat_minor": 5
}
